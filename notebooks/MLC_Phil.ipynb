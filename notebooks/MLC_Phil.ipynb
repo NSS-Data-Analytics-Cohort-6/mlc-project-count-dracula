{
 "cells": [
  {
   "cell_type": "markdown",
   "id": "d9571806",
   "metadata": {},
   "source": [
    "Our Groups Goal!\n",
    "\n",
    "Label + Data Integrity/ISRC\n",
    "\n",
    "-number of streams by label\n",
    "\n",
    "-country, year, registrant, random code\n",
    "\n",
    "-use artist, title, songwriter to identify duplicate ISRC"
   ]
  },
  {
   "cell_type": "code",
   "execution_count": 48,
   "id": "77c3fbcd",
   "metadata": {},
   "outputs": [
    {
     "ename": "ModuleNotFoundError",
     "evalue": "No module named 'wordcloud'",
     "output_type": "error",
     "traceback": [
      "\u001b[1;31m---------------------------------------------------------------------------\u001b[0m",
      "\u001b[1;31mModuleNotFoundError\u001b[0m                       Traceback (most recent call last)",
      "\u001b[1;32m~\\AppData\\Local\\Temp/ipykernel_23648/3565794016.py\u001b[0m in \u001b[0;36m<module>\u001b[1;34m\u001b[0m\n\u001b[0;32m      4\u001b[0m \u001b[1;32mimport\u001b[0m \u001b[0mseaborn\u001b[0m \u001b[1;32mas\u001b[0m \u001b[0msns\u001b[0m\u001b[1;33m\u001b[0m\u001b[1;33m\u001b[0m\u001b[0m\n\u001b[0;32m      5\u001b[0m \u001b[1;32mimport\u001b[0m \u001b[0mjson\u001b[0m\u001b[1;33m\u001b[0m\u001b[1;33m\u001b[0m\u001b[0m\n\u001b[1;32m----> 6\u001b[1;33m \u001b[1;32mfrom\u001b[0m \u001b[0mwordcloud\u001b[0m \u001b[1;32mimport\u001b[0m \u001b[0mWordCloud\u001b[0m\u001b[1;33m\u001b[0m\u001b[1;33m\u001b[0m\u001b[0m\n\u001b[0m",
      "\u001b[1;31mModuleNotFoundError\u001b[0m: No module named 'wordcloud'"
     ]
    }
   ],
   "source": [
    "import pandas as pd\n",
    "import numpy as np\n",
    "import matplotlib.pyplot as plt\n",
    "import seaborn as sns\n",
    "import json"
   ]
  },
  {
   "cell_type": "markdown",
   "id": "739295c0",
   "metadata": {},
   "source": [
    "Might as well just upload those because that what you do in python.\n",
    "Our team is  data integrity issues (isrc) / label."
   ]
  },
  {
   "cell_type": "code",
   "execution_count": 24,
   "id": "c4ff0566",
   "metadata": {
    "scrolled": true
   },
   "outputs": [],
   "source": [
    "%matplotlib inline"
   ]
  },
  {
   "cell_type": "code",
   "execution_count": 25,
   "id": "302f5465",
   "metadata": {},
   "outputs": [
    {
     "data": {
      "text/html": [
       "<div>\n",
       "<style scoped>\n",
       "    .dataframe tbody tr th:only-of-type {\n",
       "        vertical-align: middle;\n",
       "    }\n",
       "\n",
       "    .dataframe tbody tr th {\n",
       "        vertical-align: top;\n",
       "    }\n",
       "\n",
       "    .dataframe thead th {\n",
       "        text-align: right;\n",
       "    }\n",
       "</style>\n",
       "<table border=\"1\" class=\"dataframe\">\n",
       "  <thead>\n",
       "    <tr style=\"text-align: right;\">\n",
       "      <th></th>\n",
       "      <th>ISRC</th>\n",
       "      <th>Country Code</th>\n",
       "      <th>Registrant Code</th>\n",
       "      <th>Year of Reference</th>\n",
       "      <th>Usage Period</th>\n",
       "      <th>Streaming Platform (DSP)</th>\n",
       "      <th>Streams</th>\n",
       "      <th>Recording Artist</th>\n",
       "      <th>Recording Label</th>\n",
       "      <th>Recording Title</th>\n",
       "      <th>Release Title</th>\n",
       "      <th>Recording Duration (Seconds)</th>\n",
       "      <th>Songwriter's Listed (1 = \"Yes\", 0 = \"No\")</th>\n",
       "    </tr>\n",
       "  </thead>\n",
       "  <tbody>\n",
       "    <tr>\n",
       "      <th>0</th>\n",
       "      <td>USUG12101043</td>\n",
       "      <td>US</td>\n",
       "      <td>UG1</td>\n",
       "      <td>21.0</td>\n",
       "      <td>NaN</td>\n",
       "      <td>AudioMack</td>\n",
       "      <td>10,175</td>\n",
       "      <td>Future</td>\n",
       "      <td>NaN</td>\n",
       "      <td>FUTURE FT DEJ LOAF HEY THERE PROD BY DDS</td>\n",
       "      <td>#unknown#</td>\n",
       "      <td>181</td>\n",
       "      <td>0</td>\n",
       "    </tr>\n",
       "    <tr>\n",
       "      <th>1</th>\n",
       "      <td>USRC12100543</td>\n",
       "      <td>US</td>\n",
       "      <td>RC1</td>\n",
       "      <td>21.0</td>\n",
       "      <td>NaN</td>\n",
       "      <td>SoundCloud</td>\n",
       "      <td>8,597</td>\n",
       "      <td>LUCKY3RD</td>\n",
       "      <td>LUCKY3RD</td>\n",
       "      <td>Keep It Cool  LUCKY3RD</td>\n",
       "      <td>Keep It Cool  LUCKY3RD</td>\n",
       "      <td>133</td>\n",
       "      <td>0</td>\n",
       "    </tr>\n",
       "    <tr>\n",
       "      <th>2</th>\n",
       "      <td>USSM12102263</td>\n",
       "      <td>US</td>\n",
       "      <td>SM1</td>\n",
       "      <td>21.0</td>\n",
       "      <td>NaN</td>\n",
       "      <td>SoundCloud</td>\n",
       "      <td>261,280</td>\n",
       "      <td>LUCKY3RD</td>\n",
       "      <td>LUCKY3RD</td>\n",
       "      <td>Life Goes On  LUCKY3RD</td>\n",
       "      <td>Life Goes On  LUCKY3RD</td>\n",
       "      <td>171</td>\n",
       "      <td>0</td>\n",
       "    </tr>\n",
       "    <tr>\n",
       "      <th>3</th>\n",
       "      <td>USLD91731547</td>\n",
       "      <td>US</td>\n",
       "      <td>LD9</td>\n",
       "      <td>17.0</td>\n",
       "      <td>2/1/2021</td>\n",
       "      <td>Trebel</td>\n",
       "      <td>5</td>\n",
       "      <td>Bachata &amp; Merengue Mix</td>\n",
       "      <td>Orchard</td>\n",
       "      <td>No dudes de mi- Merengue &amp; Bachata Mix</td>\n",
       "      <td>Mega Mix 2010</td>\n",
       "      <td>1250</td>\n",
       "      <td>0</td>\n",
       "    </tr>\n",
       "    <tr>\n",
       "      <th>4</th>\n",
       "      <td>USAT22007048</td>\n",
       "      <td>US</td>\n",
       "      <td>AT2</td>\n",
       "      <td>20.0</td>\n",
       "      <td>NaN</td>\n",
       "      <td>AudioMack</td>\n",
       "      <td>62,105</td>\n",
       "      <td>Foolio</td>\n",
       "      <td>NaN</td>\n",
       "      <td>WHEN I SEE YOU REMIX</td>\n",
       "      <td>#unknown#</td>\n",
       "      <td>187</td>\n",
       "      <td>0</td>\n",
       "    </tr>\n",
       "  </tbody>\n",
       "</table>\n",
       "</div>"
      ],
      "text/plain": [
       "           ISRC Country Code Registrant Code  Year of Reference Usage Period  \\\n",
       "0  USUG12101043           US             UG1               21.0          NaN   \n",
       "1  USRC12100543           US             RC1               21.0          NaN   \n",
       "2  USSM12102263           US             SM1               21.0          NaN   \n",
       "3  USLD91731547           US             LD9               17.0     2/1/2021   \n",
       "4  USAT22007048           US             AT2               20.0          NaN   \n",
       "\n",
       "  Streaming Platform (DSP)    Streams        Recording Artist Recording Label  \\\n",
       "0                AudioMack    10,175                   Future             NaN   \n",
       "1               SoundCloud     8,597                 LUCKY3RD        LUCKY3RD   \n",
       "2               SoundCloud   261,280                 LUCKY3RD        LUCKY3RD   \n",
       "3                   Trebel         5   Bachata & Merengue Mix         Orchard   \n",
       "4                AudioMack    62,105                   Foolio             NaN   \n",
       "\n",
       "                             Recording Title            Release Title  \\\n",
       "0   FUTURE FT DEJ LOAF HEY THERE PROD BY DDS                #unknown#   \n",
       "1                     Keep It Cool  LUCKY3RD   Keep It Cool  LUCKY3RD   \n",
       "2                     Life Goes On  LUCKY3RD   Life Goes On  LUCKY3RD   \n",
       "3     No dudes de mi- Merengue & Bachata Mix            Mega Mix 2010   \n",
       "4                       WHEN I SEE YOU REMIX                #unknown#   \n",
       "\n",
       "   Recording Duration (Seconds)  Songwriter's Listed (1 = \"Yes\", 0 = \"No\")  \n",
       "0                           181                                          0  \n",
       "1                           133                                          0  \n",
       "2                           171                                          0  \n",
       "3                          1250                                          0  \n",
       "4                           187                                          0  "
      ]
     },
     "execution_count": 25,
     "metadata": {},
     "output_type": "execute_result"
    }
   ],
   "source": [
    "music_df = pd.read_csv(\"../data/NSS-Sample.csv\")\n",
    "music_df = music_df.rename(columns={\"If \":\"ISRC\"})\n",
    "music_df.head()"
   ]
  },
  {
   "cell_type": "code",
   "execution_count": 26,
   "id": "00666568",
   "metadata": {},
   "outputs": [
    {
     "name": "stdout",
     "output_type": "stream",
     "text": [
      "<class 'pandas.core.frame.DataFrame'>\n",
      "RangeIndex: 100000 entries, 0 to 99999\n",
      "Data columns (total 13 columns):\n",
      " #   Column             Non-Null Count   Dtype  \n",
      "---  ------             --------------   -----  \n",
      " 0   ISRC               98240 non-null   object \n",
      " 1   Country            98303 non-null   object \n",
      " 2   Registrant         98303 non-null   object \n",
      " 3   Year               98239 non-null   float64\n",
      " 4   Month_Streamed     91898 non-null   object \n",
      " 5   Platform           96001 non-null   object \n",
      " 6   Streams            100000 non-null  object \n",
      " 7   Artist             100000 non-null  object \n",
      " 8   Label              98992 non-null   object \n",
      " 9   Recording_Title    100000 non-null  object \n",
      " 10  Release_Title      99931 non-null   object \n",
      " 11  Duration_Sec       100000 non-null  int64  \n",
      " 12  Songwriter_Listed  100000 non-null  int64  \n",
      "dtypes: float64(1), int64(2), object(10)\n",
      "memory usage: 9.9+ MB\n"
     ]
    }
   ],
   "source": [
    "music_df=music_df.set_axis([\"ISRC\",\"Country\",\"Registrant\",\"Year\",\"Month_Streamed\",\n",
    "                            \"Platform\",\"Streams\",\"Artist\",\"Label\",\"Recording_Title\",\"Release_Title\",\n",
    "                            \"Duration_Sec\",\"Songwriter_Listed\"], axis=1)\n",
    "music_df.info()"
   ]
  },
  {
   "cell_type": "code",
   "execution_count": 27,
   "id": "5008a655",
   "metadata": {},
   "outputs": [],
   "source": [
    "music_null = music_df[music_df.isna().any(axis=1)]"
   ]
  },
  {
   "cell_type": "code",
   "execution_count": 28,
   "id": "efb366c6",
   "metadata": {
    "scrolled": false
   },
   "outputs": [
    {
     "name": "stdout",
     "output_type": "stream",
     "text": [
      "<class 'pandas.core.frame.DataFrame'>\n",
      "Int64Index: 10285 entries, 0 to 99837\n",
      "Data columns (total 13 columns):\n",
      " #   Column             Non-Null Count  Dtype  \n",
      "---  ------             --------------  -----  \n",
      " 0   ISRC               8525 non-null   object \n",
      " 1   Country            8588 non-null   object \n",
      " 2   Registrant         8588 non-null   object \n",
      " 3   Year               8524 non-null   float64\n",
      " 4   Month_Streamed     2183 non-null   object \n",
      " 5   Platform           6286 non-null   object \n",
      " 6   Streams            10285 non-null  object \n",
      " 7   Artist             10285 non-null  object \n",
      " 8   Label              9277 non-null   object \n",
      " 9   Recording_Title    10285 non-null  object \n",
      " 10  Release_Title      10216 non-null  object \n",
      " 11  Duration_Sec       10285 non-null  int64  \n",
      " 12  Songwriter_Listed  10285 non-null  int64  \n",
      "dtypes: float64(1), int64(2), object(10)\n",
      "memory usage: 1.1+ MB\n"
     ]
    }
   ],
   "source": [
    "music_null.info()"
   ]
  },
  {
   "cell_type": "code",
   "execution_count": 29,
   "id": "d25c2e97",
   "metadata": {},
   "outputs": [
    {
     "name": "stderr",
     "output_type": "stream",
     "text": [
      "C:\\Users\\phili\\AppData\\Local\\Temp/ipykernel_23648/4266343818.py:1: SettingWithCopyWarning: \n",
      "A value is trying to be set on a copy of a slice from a DataFrame.\n",
      "Try using .loc[row_indexer,col_indexer] = value instead\n",
      "\n",
      "See the caveats in the documentation: https://pandas.pydata.org/pandas-docs/stable/user_guide/indexing.html#returning-a-view-versus-a-copy\n",
      "  music_null['Streams'] = music_null['Streams'].astype(str)\n",
      "C:\\Users\\phili\\AppData\\Local\\Temp/ipykernel_23648/4266343818.py:2: SettingWithCopyWarning: \n",
      "A value is trying to be set on a copy of a slice from a DataFrame.\n",
      "Try using .loc[row_indexer,col_indexer] = value instead\n",
      "\n",
      "See the caveats in the documentation: https://pandas.pydata.org/pandas-docs/stable/user_guide/indexing.html#returning-a-view-versus-a-copy\n",
      "  music_null['Streams'] = music_null['Streams'].str.replace(',','')\n",
      "C:\\Users\\phili\\AppData\\Local\\Temp/ipykernel_23648/4266343818.py:3: SettingWithCopyWarning: \n",
      "A value is trying to be set on a copy of a slice from a DataFrame.\n",
      "Try using .loc[row_indexer,col_indexer] = value instead\n",
      "\n",
      "See the caveats in the documentation: https://pandas.pydata.org/pandas-docs/stable/user_guide/indexing.html#returning-a-view-versus-a-copy\n",
      "  music_null['Streams'] = music_null['Streams'].astype(int)\n"
     ]
    }
   ],
   "source": [
    "music_null['Streams'] = music_null['Streams'].astype(str)\n",
    "music_null['Streams'] = music_null['Streams'].str.replace(',','')\n",
    "music_null['Streams'] = music_null['Streams'].astype(int)"
   ]
  },
  {
   "cell_type": "code",
   "execution_count": 30,
   "id": "c914431d",
   "metadata": {},
   "outputs": [
    {
     "ename": "TypeError",
     "evalue": "unsupported operand type(s) for /: 'str' and 'int'",
     "output_type": "error",
     "traceback": [
      "\u001b[1;31m---------------------------------------------------------------------------\u001b[0m",
      "\u001b[1;31mTypeError\u001b[0m                                 Traceback (most recent call last)",
      "\u001b[1;32m~\\anaconda3\\lib\\site-packages\\pandas\\core\\ops\\array_ops.py\u001b[0m in \u001b[0;36m_na_arithmetic_op\u001b[1;34m(left, right, op, is_cmp)\u001b[0m\n\u001b[0;32m    165\u001b[0m     \u001b[1;32mtry\u001b[0m\u001b[1;33m:\u001b[0m\u001b[1;33m\u001b[0m\u001b[1;33m\u001b[0m\u001b[0m\n\u001b[1;32m--> 166\u001b[1;33m         \u001b[0mresult\u001b[0m \u001b[1;33m=\u001b[0m \u001b[0mfunc\u001b[0m\u001b[1;33m(\u001b[0m\u001b[0mleft\u001b[0m\u001b[1;33m,\u001b[0m \u001b[0mright\u001b[0m\u001b[1;33m)\u001b[0m\u001b[1;33m\u001b[0m\u001b[1;33m\u001b[0m\u001b[0m\n\u001b[0m\u001b[0;32m    167\u001b[0m     \u001b[1;32mexcept\u001b[0m \u001b[0mTypeError\u001b[0m\u001b[1;33m:\u001b[0m\u001b[1;33m\u001b[0m\u001b[1;33m\u001b[0m\u001b[0m\n",
      "\u001b[1;32m~\\anaconda3\\lib\\site-packages\\pandas\\core\\computation\\expressions.py\u001b[0m in \u001b[0;36mevaluate\u001b[1;34m(op, a, b, use_numexpr)\u001b[0m\n\u001b[0;32m    238\u001b[0m             \u001b[1;31m# error: \"None\" not callable\u001b[0m\u001b[1;33m\u001b[0m\u001b[1;33m\u001b[0m\u001b[0m\n\u001b[1;32m--> 239\u001b[1;33m             \u001b[1;32mreturn\u001b[0m \u001b[0m_evaluate\u001b[0m\u001b[1;33m(\u001b[0m\u001b[0mop\u001b[0m\u001b[1;33m,\u001b[0m \u001b[0mop_str\u001b[0m\u001b[1;33m,\u001b[0m \u001b[0ma\u001b[0m\u001b[1;33m,\u001b[0m \u001b[0mb\u001b[0m\u001b[1;33m)\u001b[0m  \u001b[1;31m# type: ignore[misc]\u001b[0m\u001b[1;33m\u001b[0m\u001b[1;33m\u001b[0m\u001b[0m\n\u001b[0m\u001b[0;32m    240\u001b[0m     \u001b[1;32mreturn\u001b[0m \u001b[0m_evaluate_standard\u001b[0m\u001b[1;33m(\u001b[0m\u001b[0mop\u001b[0m\u001b[1;33m,\u001b[0m \u001b[0mop_str\u001b[0m\u001b[1;33m,\u001b[0m \u001b[0ma\u001b[0m\u001b[1;33m,\u001b[0m \u001b[0mb\u001b[0m\u001b[1;33m)\u001b[0m\u001b[1;33m\u001b[0m\u001b[1;33m\u001b[0m\u001b[0m\n",
      "\u001b[1;32m~\\anaconda3\\lib\\site-packages\\pandas\\core\\computation\\expressions.py\u001b[0m in \u001b[0;36m_evaluate_numexpr\u001b[1;34m(op, op_str, a, b)\u001b[0m\n\u001b[0;32m    127\u001b[0m     \u001b[1;32mif\u001b[0m \u001b[0mresult\u001b[0m \u001b[1;32mis\u001b[0m \u001b[1;32mNone\u001b[0m\u001b[1;33m:\u001b[0m\u001b[1;33m\u001b[0m\u001b[1;33m\u001b[0m\u001b[0m\n\u001b[1;32m--> 128\u001b[1;33m         \u001b[0mresult\u001b[0m \u001b[1;33m=\u001b[0m \u001b[0m_evaluate_standard\u001b[0m\u001b[1;33m(\u001b[0m\u001b[0mop\u001b[0m\u001b[1;33m,\u001b[0m \u001b[0mop_str\u001b[0m\u001b[1;33m,\u001b[0m \u001b[0ma\u001b[0m\u001b[1;33m,\u001b[0m \u001b[0mb\u001b[0m\u001b[1;33m)\u001b[0m\u001b[1;33m\u001b[0m\u001b[1;33m\u001b[0m\u001b[0m\n\u001b[0m\u001b[0;32m    129\u001b[0m \u001b[1;33m\u001b[0m\u001b[0m\n",
      "\u001b[1;32m~\\anaconda3\\lib\\site-packages\\pandas\\core\\computation\\expressions.py\u001b[0m in \u001b[0;36m_evaluate_standard\u001b[1;34m(op, op_str, a, b)\u001b[0m\n\u001b[0;32m     68\u001b[0m         \u001b[0m_store_test_result\u001b[0m\u001b[1;33m(\u001b[0m\u001b[1;32mFalse\u001b[0m\u001b[1;33m)\u001b[0m\u001b[1;33m\u001b[0m\u001b[1;33m\u001b[0m\u001b[0m\n\u001b[1;32m---> 69\u001b[1;33m     \u001b[1;32mreturn\u001b[0m \u001b[0mop\u001b[0m\u001b[1;33m(\u001b[0m\u001b[0ma\u001b[0m\u001b[1;33m,\u001b[0m \u001b[0mb\u001b[0m\u001b[1;33m)\u001b[0m\u001b[1;33m\u001b[0m\u001b[1;33m\u001b[0m\u001b[0m\n\u001b[0m\u001b[0;32m     70\u001b[0m \u001b[1;33m\u001b[0m\u001b[0m\n",
      "\u001b[1;31mTypeError\u001b[0m: unsupported operand type(s) for /: 'str' and 'int'",
      "\nDuring handling of the above exception, another exception occurred:\n",
      "\u001b[1;31mTypeError\u001b[0m                                 Traceback (most recent call last)",
      "\u001b[1;32m~\\AppData\\Local\\Temp/ipykernel_23648/2407643793.py\u001b[0m in \u001b[0;36m<module>\u001b[1;34m\u001b[0m\n\u001b[0;32m      1\u001b[0m \u001b[0mnulls\u001b[0m\u001b[1;33m=\u001b[0m\u001b[0mmusic_null\u001b[0m\u001b[1;33m.\u001b[0m\u001b[0mgroupby\u001b[0m\u001b[1;33m(\u001b[0m\u001b[1;33m[\u001b[0m\u001b[1;34m'Platform'\u001b[0m\u001b[1;33m]\u001b[0m\u001b[1;33m,\u001b[0m \u001b[0mas_index\u001b[0m\u001b[1;33m=\u001b[0m\u001b[1;32mFalse\u001b[0m\u001b[1;33m)\u001b[0m\u001b[1;33m.\u001b[0m\u001b[0magg\u001b[0m\u001b[1;33m(\u001b[0m\u001b[1;33m{\u001b[0m\u001b[1;34m'Artist'\u001b[0m\u001b[1;33m:\u001b[0m\u001b[1;34m'count'\u001b[0m\u001b[1;33m,\u001b[0m \u001b[1;34m'Streams'\u001b[0m\u001b[1;33m:\u001b[0m \u001b[1;34m'sum'\u001b[0m\u001b[1;33m}\u001b[0m\u001b[1;33m)\u001b[0m\u001b[1;33m\u001b[0m\u001b[1;33m\u001b[0m\u001b[0m\n\u001b[0;32m      2\u001b[0m \u001b[0mnonulls\u001b[0m \u001b[1;33m=\u001b[0m \u001b[0mmusic_df\u001b[0m\u001b[1;33m.\u001b[0m\u001b[0mgroupby\u001b[0m\u001b[1;33m(\u001b[0m\u001b[1;33m[\u001b[0m\u001b[1;34m'Platform'\u001b[0m\u001b[1;33m]\u001b[0m\u001b[1;33m,\u001b[0m \u001b[0mas_index\u001b[0m\u001b[1;33m=\u001b[0m\u001b[1;32mFalse\u001b[0m\u001b[1;33m)\u001b[0m\u001b[1;33m.\u001b[0m\u001b[0magg\u001b[0m\u001b[1;33m(\u001b[0m\u001b[1;33m{\u001b[0m\u001b[1;34m'Artist'\u001b[0m\u001b[1;33m:\u001b[0m\u001b[1;34m'count'\u001b[0m\u001b[1;33m,\u001b[0m \u001b[1;34m'Streams'\u001b[0m\u001b[1;33m:\u001b[0m \u001b[1;34m'sum'\u001b[0m\u001b[1;33m}\u001b[0m\u001b[1;33m)\u001b[0m\u001b[1;33m\u001b[0m\u001b[1;33m\u001b[0m\u001b[0m\n\u001b[1;32m----> 3\u001b[1;33m \u001b[0mnonulls\u001b[0m\u001b[1;33m[\u001b[0m\u001b[1;34m'Streams'\u001b[0m\u001b[1;33m]\u001b[0m \u001b[1;33m=\u001b[0m \u001b[0mnonulls\u001b[0m\u001b[1;33m[\u001b[0m\u001b[1;34m'Streams'\u001b[0m\u001b[1;33m]\u001b[0m\u001b[1;33m/\u001b[0m\u001b[1;36m1000000\u001b[0m\u001b[1;33m\u001b[0m\u001b[1;33m\u001b[0m\u001b[0m\n\u001b[0m\u001b[0;32m      4\u001b[0m \u001b[0mprint\u001b[0m\u001b[1;33m(\u001b[0m\u001b[0mnulls\u001b[0m\u001b[1;33m)\u001b[0m\u001b[1;33m\u001b[0m\u001b[1;33m\u001b[0m\u001b[0m\n\u001b[0;32m      5\u001b[0m \u001b[0mprint\u001b[0m\u001b[1;33m(\u001b[0m\u001b[0mnonulls\u001b[0m\u001b[1;33m)\u001b[0m\u001b[1;33m\u001b[0m\u001b[1;33m\u001b[0m\u001b[0m\n",
      "\u001b[1;32m~\\anaconda3\\lib\\site-packages\\pandas\\core\\ops\\common.py\u001b[0m in \u001b[0;36mnew_method\u001b[1;34m(self, other)\u001b[0m\n\u001b[0;32m     67\u001b[0m         \u001b[0mother\u001b[0m \u001b[1;33m=\u001b[0m \u001b[0mitem_from_zerodim\u001b[0m\u001b[1;33m(\u001b[0m\u001b[0mother\u001b[0m\u001b[1;33m)\u001b[0m\u001b[1;33m\u001b[0m\u001b[1;33m\u001b[0m\u001b[0m\n\u001b[0;32m     68\u001b[0m \u001b[1;33m\u001b[0m\u001b[0m\n\u001b[1;32m---> 69\u001b[1;33m         \u001b[1;32mreturn\u001b[0m \u001b[0mmethod\u001b[0m\u001b[1;33m(\u001b[0m\u001b[0mself\u001b[0m\u001b[1;33m,\u001b[0m \u001b[0mother\u001b[0m\u001b[1;33m)\u001b[0m\u001b[1;33m\u001b[0m\u001b[1;33m\u001b[0m\u001b[0m\n\u001b[0m\u001b[0;32m     70\u001b[0m \u001b[1;33m\u001b[0m\u001b[0m\n\u001b[0;32m     71\u001b[0m     \u001b[1;32mreturn\u001b[0m \u001b[0mnew_method\u001b[0m\u001b[1;33m\u001b[0m\u001b[1;33m\u001b[0m\u001b[0m\n",
      "\u001b[1;32m~\\anaconda3\\lib\\site-packages\\pandas\\core\\arraylike.py\u001b[0m in \u001b[0;36m__truediv__\u001b[1;34m(self, other)\u001b[0m\n\u001b[0;32m    114\u001b[0m     \u001b[1;33m@\u001b[0m\u001b[0munpack_zerodim_and_defer\u001b[0m\u001b[1;33m(\u001b[0m\u001b[1;34m\"__truediv__\"\u001b[0m\u001b[1;33m)\u001b[0m\u001b[1;33m\u001b[0m\u001b[1;33m\u001b[0m\u001b[0m\n\u001b[0;32m    115\u001b[0m     \u001b[1;32mdef\u001b[0m \u001b[0m__truediv__\u001b[0m\u001b[1;33m(\u001b[0m\u001b[0mself\u001b[0m\u001b[1;33m,\u001b[0m \u001b[0mother\u001b[0m\u001b[1;33m)\u001b[0m\u001b[1;33m:\u001b[0m\u001b[1;33m\u001b[0m\u001b[1;33m\u001b[0m\u001b[0m\n\u001b[1;32m--> 116\u001b[1;33m         \u001b[1;32mreturn\u001b[0m \u001b[0mself\u001b[0m\u001b[1;33m.\u001b[0m\u001b[0m_arith_method\u001b[0m\u001b[1;33m(\u001b[0m\u001b[0mother\u001b[0m\u001b[1;33m,\u001b[0m \u001b[0moperator\u001b[0m\u001b[1;33m.\u001b[0m\u001b[0mtruediv\u001b[0m\u001b[1;33m)\u001b[0m\u001b[1;33m\u001b[0m\u001b[1;33m\u001b[0m\u001b[0m\n\u001b[0m\u001b[0;32m    117\u001b[0m \u001b[1;33m\u001b[0m\u001b[0m\n\u001b[0;32m    118\u001b[0m     \u001b[1;33m@\u001b[0m\u001b[0munpack_zerodim_and_defer\u001b[0m\u001b[1;33m(\u001b[0m\u001b[1;34m\"__rtruediv__\"\u001b[0m\u001b[1;33m)\u001b[0m\u001b[1;33m\u001b[0m\u001b[1;33m\u001b[0m\u001b[0m\n",
      "\u001b[1;32m~\\anaconda3\\lib\\site-packages\\pandas\\core\\series.py\u001b[0m in \u001b[0;36m_arith_method\u001b[1;34m(self, other, op)\u001b[0m\n\u001b[0;32m   5524\u001b[0m \u001b[1;33m\u001b[0m\u001b[0m\n\u001b[0;32m   5525\u001b[0m         \u001b[1;32mwith\u001b[0m \u001b[0mnp\u001b[0m\u001b[1;33m.\u001b[0m\u001b[0merrstate\u001b[0m\u001b[1;33m(\u001b[0m\u001b[0mall\u001b[0m\u001b[1;33m=\u001b[0m\u001b[1;34m\"ignore\"\u001b[0m\u001b[1;33m)\u001b[0m\u001b[1;33m:\u001b[0m\u001b[1;33m\u001b[0m\u001b[1;33m\u001b[0m\u001b[0m\n\u001b[1;32m-> 5526\u001b[1;33m             \u001b[0mresult\u001b[0m \u001b[1;33m=\u001b[0m \u001b[0mops\u001b[0m\u001b[1;33m.\u001b[0m\u001b[0marithmetic_op\u001b[0m\u001b[1;33m(\u001b[0m\u001b[0mlvalues\u001b[0m\u001b[1;33m,\u001b[0m \u001b[0mrvalues\u001b[0m\u001b[1;33m,\u001b[0m \u001b[0mop\u001b[0m\u001b[1;33m)\u001b[0m\u001b[1;33m\u001b[0m\u001b[1;33m\u001b[0m\u001b[0m\n\u001b[0m\u001b[0;32m   5527\u001b[0m \u001b[1;33m\u001b[0m\u001b[0m\n\u001b[0;32m   5528\u001b[0m         \u001b[1;32mreturn\u001b[0m \u001b[0mself\u001b[0m\u001b[1;33m.\u001b[0m\u001b[0m_construct_result\u001b[0m\u001b[1;33m(\u001b[0m\u001b[0mresult\u001b[0m\u001b[1;33m,\u001b[0m \u001b[0mname\u001b[0m\u001b[1;33m=\u001b[0m\u001b[0mres_name\u001b[0m\u001b[1;33m)\u001b[0m\u001b[1;33m\u001b[0m\u001b[1;33m\u001b[0m\u001b[0m\n",
      "\u001b[1;32m~\\anaconda3\\lib\\site-packages\\pandas\\core\\ops\\array_ops.py\u001b[0m in \u001b[0;36marithmetic_op\u001b[1;34m(left, right, op)\u001b[0m\n\u001b[0;32m    222\u001b[0m         \u001b[0m_bool_arith_check\u001b[0m\u001b[1;33m(\u001b[0m\u001b[0mop\u001b[0m\u001b[1;33m,\u001b[0m \u001b[0mleft\u001b[0m\u001b[1;33m,\u001b[0m \u001b[0mright\u001b[0m\u001b[1;33m)\u001b[0m\u001b[1;33m\u001b[0m\u001b[1;33m\u001b[0m\u001b[0m\n\u001b[0;32m    223\u001b[0m \u001b[1;33m\u001b[0m\u001b[0m\n\u001b[1;32m--> 224\u001b[1;33m         \u001b[0mres_values\u001b[0m \u001b[1;33m=\u001b[0m \u001b[0m_na_arithmetic_op\u001b[0m\u001b[1;33m(\u001b[0m\u001b[0mleft\u001b[0m\u001b[1;33m,\u001b[0m \u001b[0mright\u001b[0m\u001b[1;33m,\u001b[0m \u001b[0mop\u001b[0m\u001b[1;33m)\u001b[0m\u001b[1;33m\u001b[0m\u001b[1;33m\u001b[0m\u001b[0m\n\u001b[0m\u001b[0;32m    225\u001b[0m \u001b[1;33m\u001b[0m\u001b[0m\n\u001b[0;32m    226\u001b[0m     \u001b[1;32mreturn\u001b[0m \u001b[0mres_values\u001b[0m\u001b[1;33m\u001b[0m\u001b[1;33m\u001b[0m\u001b[0m\n",
      "\u001b[1;32m~\\anaconda3\\lib\\site-packages\\pandas\\core\\ops\\array_ops.py\u001b[0m in \u001b[0;36m_na_arithmetic_op\u001b[1;34m(left, right, op, is_cmp)\u001b[0m\n\u001b[0;32m    171\u001b[0m             \u001b[1;31m# Don't do this for comparisons, as that will handle complex numbers\u001b[0m\u001b[1;33m\u001b[0m\u001b[1;33m\u001b[0m\u001b[0m\n\u001b[0;32m    172\u001b[0m             \u001b[1;31m#  incorrectly, see GH#32047\u001b[0m\u001b[1;33m\u001b[0m\u001b[1;33m\u001b[0m\u001b[0m\n\u001b[1;32m--> 173\u001b[1;33m             \u001b[0mresult\u001b[0m \u001b[1;33m=\u001b[0m \u001b[0m_masked_arith_op\u001b[0m\u001b[1;33m(\u001b[0m\u001b[0mleft\u001b[0m\u001b[1;33m,\u001b[0m \u001b[0mright\u001b[0m\u001b[1;33m,\u001b[0m \u001b[0mop\u001b[0m\u001b[1;33m)\u001b[0m\u001b[1;33m\u001b[0m\u001b[1;33m\u001b[0m\u001b[0m\n\u001b[0m\u001b[0;32m    174\u001b[0m         \u001b[1;32melse\u001b[0m\u001b[1;33m:\u001b[0m\u001b[1;33m\u001b[0m\u001b[1;33m\u001b[0m\u001b[0m\n\u001b[0;32m    175\u001b[0m             \u001b[1;32mraise\u001b[0m\u001b[1;33m\u001b[0m\u001b[1;33m\u001b[0m\u001b[0m\n",
      "\u001b[1;32m~\\anaconda3\\lib\\site-packages\\pandas\\core\\ops\\array_ops.py\u001b[0m in \u001b[0;36m_masked_arith_op\u001b[1;34m(x, y, op)\u001b[0m\n\u001b[0;32m    129\u001b[0m \u001b[1;33m\u001b[0m\u001b[0m\n\u001b[0;32m    130\u001b[0m         \u001b[1;32mif\u001b[0m \u001b[0mmask\u001b[0m\u001b[1;33m.\u001b[0m\u001b[0many\u001b[0m\u001b[1;33m(\u001b[0m\u001b[1;33m)\u001b[0m\u001b[1;33m:\u001b[0m\u001b[1;33m\u001b[0m\u001b[1;33m\u001b[0m\u001b[0m\n\u001b[1;32m--> 131\u001b[1;33m             \u001b[0mresult\u001b[0m\u001b[1;33m[\u001b[0m\u001b[0mmask\u001b[0m\u001b[1;33m]\u001b[0m \u001b[1;33m=\u001b[0m \u001b[0mop\u001b[0m\u001b[1;33m(\u001b[0m\u001b[0mxrav\u001b[0m\u001b[1;33m[\u001b[0m\u001b[0mmask\u001b[0m\u001b[1;33m]\u001b[0m\u001b[1;33m,\u001b[0m \u001b[0my\u001b[0m\u001b[1;33m)\u001b[0m\u001b[1;33m\u001b[0m\u001b[1;33m\u001b[0m\u001b[0m\n\u001b[0m\u001b[0;32m    132\u001b[0m \u001b[1;33m\u001b[0m\u001b[0m\n\u001b[0;32m    133\u001b[0m     \u001b[0mnp\u001b[0m\u001b[1;33m.\u001b[0m\u001b[0mputmask\u001b[0m\u001b[1;33m(\u001b[0m\u001b[0mresult\u001b[0m\u001b[1;33m,\u001b[0m \u001b[1;33m~\u001b[0m\u001b[0mmask\u001b[0m\u001b[1;33m,\u001b[0m \u001b[0mnp\u001b[0m\u001b[1;33m.\u001b[0m\u001b[0mnan\u001b[0m\u001b[1;33m)\u001b[0m\u001b[1;33m\u001b[0m\u001b[1;33m\u001b[0m\u001b[0m\n",
      "\u001b[1;31mTypeError\u001b[0m: unsupported operand type(s) for /: 'str' and 'int'"
     ]
    }
   ],
   "source": [
    "nulls=music_null.groupby(['Platform'], as_index=False).agg({'Artist':'count', 'Streams': 'sum'})\n",
    "nonulls = music_df.groupby(['Platform'], as_index=False).agg({'Artist':'count', 'Streams': 'sum'})\n",
    "nonulls['Streams'] = nonulls['Streams']/1000000\n",
    "print(nulls)\n",
    "print(nonulls)"
   ]
  },
  {
   "cell_type": "code",
   "execution_count": null,
   "id": "642997e1",
   "metadata": {
    "scrolled": true
   },
   "outputs": [],
   "source": [
    "music_df.isnull().sum()"
   ]
  },
  {
   "cell_type": "code",
   "execution_count": null,
   "id": "915bdf54",
   "metadata": {},
   "outputs": [],
   "source": [
    "music_df[\"ISRC\"].fillna(\" \", inplace = True)\n",
    "music_df[\"Country Code\"].fillna(\" \", inplace = True)\n",
    "music_df[\"Registrant Code\"].fillna(\" \", inplace = True)\n",
    "music_df[\"Year of Reference\"].fillna(\" \", inplace = True)\n",
    "music_df[\"Usage Period\"].fillna(\" \", inplace = True)\n",
    "music_df[\"Streaming Platform (DSP)\"].fillna(\" \", inplace = True)\n",
    "music_df[\"Streams\"].fillna(\" \", inplace = True)\n",
    "music_df[\"Recording Artist\"].fillna(\" \", inplace = True)\n",
    "music_df[\"Recording Label\"].fillna(\" \", inplace = True)\n",
    "music_df[\"Recording Title\"].fillna(\" \", inplace = True)\n",
    "music_df[\"Release Title\"].fillna(\" \", inplace = True)\n",
    "music_df[\"Recording Duration (Seconds)\"].fillna(\" \", inplace = True)"
   ]
  },
  {
   "cell_type": "code",
   "execution_count": 31,
   "id": "6aa262fb",
   "metadata": {},
   "outputs": [
    {
     "data": {
      "text/plain": [
       "ISRC                 1760\n",
       "Country              1697\n",
       "Registrant           1697\n",
       "Year                 1761\n",
       "Month_Streamed       8102\n",
       "Platform             3999\n",
       "Streams                 0\n",
       "Artist                  0\n",
       "Label                1008\n",
       "Recording_Title         0\n",
       "Release_Title          69\n",
       "Duration_Sec            0\n",
       "Songwriter_Listed       0\n",
       "dtype: int64"
      ]
     },
     "execution_count": 31,
     "metadata": {},
     "output_type": "execute_result"
    }
   ],
   "source": [
    "music_df.isnull().sum()"
   ]
  },
  {
   "cell_type": "markdown",
   "id": "912752e5",
   "metadata": {},
   "source": [
    "Following code is getting rid of commas in the streams column to make it an integer"
   ]
  },
  {
   "cell_type": "code",
   "execution_count": 32,
   "id": "b2395941",
   "metadata": {},
   "outputs": [],
   "source": [
    "music_df['Streams'] = music_df['Streams'].astype(str)\n",
    "music_df['Streams']=music_df['Streams'].str.replace(',','')\n",
    "music_df['Streams'] = music_df['Streams'].astype(int)"
   ]
  },
  {
   "cell_type": "markdown",
   "id": "541facf3",
   "metadata": {},
   "source": [
    "So we're having an extrordinarily difficult time turning the years column into an integer. Why is this an impossible feat? Why does it refuse to turn into a string even though there are no nulls? Why does it refuse to turn into a float when there are no nulls???"
   ]
  },
  {
   "cell_type": "code",
   "execution_count": 33,
   "id": "420566c4",
   "metadata": {},
   "outputs": [],
   "source": [
    "indie = music_df[music_df['Artist'] == music_df['Label']]\n",
    "indie = indie.groupby(['Artist'], as_index=False).agg({'Streams':['sum']})"
   ]
  },
  {
   "cell_type": "code",
   "execution_count": 34,
   "id": "6df31675",
   "metadata": {
    "scrolled": true
   },
   "outputs": [
    {
     "name": "stdout",
     "output_type": "stream",
     "text": [
      "                  Artist  Streams\n",
      "                              sum\n",
      "0            #TouchMoney    15216\n",
      "1                   $NOT   690127\n",
      "2           $hyfromdatre  1172964\n",
      "3               001vlone    37866\n",
      "4              03 Greedo    42914\n",
      "...                  ...      ...\n",
      "2367          yvngxchris   255896\n",
      "2368          zuba kiboz   101166\n",
      "2369             Łaszewo   228589\n",
      "2370  Королевская музыка    55544\n",
      "2371          ミラクルミュージカル   411571\n",
      "\n",
      "[2372 rows x 2 columns]\n"
     ]
    }
   ],
   "source": [
    "print(indie)"
   ]
  },
  {
   "cell_type": "code",
   "execution_count": 35,
   "id": "63ce6eac",
   "metadata": {},
   "outputs": [
    {
     "data": {
      "text/html": [
       "<div>\n",
       "<style scoped>\n",
       "    .dataframe tbody tr th:only-of-type {\n",
       "        vertical-align: middle;\n",
       "    }\n",
       "\n",
       "    .dataframe tbody tr th {\n",
       "        vertical-align: top;\n",
       "    }\n",
       "\n",
       "    .dataframe thead tr th {\n",
       "        text-align: left;\n",
       "    }\n",
       "</style>\n",
       "<table border=\"1\" class=\"dataframe\">\n",
       "  <thead>\n",
       "    <tr>\n",
       "      <th></th>\n",
       "      <th>Streams</th>\n",
       "    </tr>\n",
       "    <tr>\n",
       "      <th></th>\n",
       "      <th>sum</th>\n",
       "    </tr>\n",
       "  </thead>\n",
       "  <tbody>\n",
       "    <tr>\n",
       "      <th>count</th>\n",
       "      <td>2.372000e+03</td>\n",
       "    </tr>\n",
       "    <tr>\n",
       "      <th>mean</th>\n",
       "      <td>2.427213e+05</td>\n",
       "    </tr>\n",
       "    <tr>\n",
       "      <th>std</th>\n",
       "      <td>1.618498e+06</td>\n",
       "    </tr>\n",
       "    <tr>\n",
       "      <th>min</th>\n",
       "      <td>1.000000e+00</td>\n",
       "    </tr>\n",
       "    <tr>\n",
       "      <th>25%</th>\n",
       "      <td>1.859175e+04</td>\n",
       "    </tr>\n",
       "    <tr>\n",
       "      <th>50%</th>\n",
       "      <td>5.608150e+04</td>\n",
       "    </tr>\n",
       "    <tr>\n",
       "      <th>75%</th>\n",
       "      <td>1.457645e+05</td>\n",
       "    </tr>\n",
       "    <tr>\n",
       "      <th>max</th>\n",
       "      <td>6.517181e+07</td>\n",
       "    </tr>\n",
       "  </tbody>\n",
       "</table>\n",
       "</div>"
      ],
      "text/plain": [
       "            Streams\n",
       "                sum\n",
       "count  2.372000e+03\n",
       "mean   2.427213e+05\n",
       "std    1.618498e+06\n",
       "min    1.000000e+00\n",
       "25%    1.859175e+04\n",
       "50%    5.608150e+04\n",
       "75%    1.457645e+05\n",
       "max    6.517181e+07"
      ]
     },
     "execution_count": 35,
     "metadata": {},
     "output_type": "execute_result"
    }
   ],
   "source": [
    "indie.describe()"
   ]
  },
  {
   "cell_type": "code",
   "execution_count": 36,
   "id": "94e53581",
   "metadata": {},
   "outputs": [
    {
     "data": {
      "text/html": [
       "<div>\n",
       "<style scoped>\n",
       "    .dataframe tbody tr th:only-of-type {\n",
       "        vertical-align: middle;\n",
       "    }\n",
       "\n",
       "    .dataframe tbody tr th {\n",
       "        vertical-align: top;\n",
       "    }\n",
       "\n",
       "    .dataframe thead th {\n",
       "        text-align: right;\n",
       "    }\n",
       "</style>\n",
       "<table border=\"1\" class=\"dataframe\">\n",
       "  <thead>\n",
       "    <tr style=\"text-align: right;\">\n",
       "      <th></th>\n",
       "      <th>Year</th>\n",
       "      <th>Streams</th>\n",
       "      <th>Duration_Sec</th>\n",
       "      <th>Songwriter_Listed</th>\n",
       "    </tr>\n",
       "  </thead>\n",
       "  <tbody>\n",
       "    <tr>\n",
       "      <th>count</th>\n",
       "      <td>98239.000000</td>\n",
       "      <td>1.000000e+05</td>\n",
       "      <td>100000.000000</td>\n",
       "      <td>100000.000000</td>\n",
       "    </tr>\n",
       "    <tr>\n",
       "      <th>mean</th>\n",
       "      <td>19.671933</td>\n",
       "      <td>5.626550e+04</td>\n",
       "      <td>1016.893690</td>\n",
       "      <td>0.541610</td>\n",
       "    </tr>\n",
       "    <tr>\n",
       "      <th>std</th>\n",
       "      <td>12.638870</td>\n",
       "      <td>2.620276e+05</td>\n",
       "      <td>15565.692133</td>\n",
       "      <td>0.498268</td>\n",
       "    </tr>\n",
       "    <tr>\n",
       "      <th>min</th>\n",
       "      <td>0.000000</td>\n",
       "      <td>1.000000e+00</td>\n",
       "      <td>0.000000</td>\n",
       "      <td>0.000000</td>\n",
       "    </tr>\n",
       "    <tr>\n",
       "      <th>25%</th>\n",
       "      <td>17.000000</td>\n",
       "      <td>6.807000e+03</td>\n",
       "      <td>149.000000</td>\n",
       "      <td>0.000000</td>\n",
       "    </tr>\n",
       "    <tr>\n",
       "      <th>50%</th>\n",
       "      <td>19.000000</td>\n",
       "      <td>1.677250e+04</td>\n",
       "      <td>190.000000</td>\n",
       "      <td>1.000000</td>\n",
       "    </tr>\n",
       "    <tr>\n",
       "      <th>75%</th>\n",
       "      <td>20.000000</td>\n",
       "      <td>3.990300e+04</td>\n",
       "      <td>236.000000</td>\n",
       "      <td>1.000000</td>\n",
       "    </tr>\n",
       "    <tr>\n",
       "      <th>max</th>\n",
       "      <td>99.000000</td>\n",
       "      <td>2.145617e+07</td>\n",
       "      <td>818738.000000</td>\n",
       "      <td>1.000000</td>\n",
       "    </tr>\n",
       "  </tbody>\n",
       "</table>\n",
       "</div>"
      ],
      "text/plain": [
       "               Year       Streams   Duration_Sec  Songwriter_Listed\n",
       "count  98239.000000  1.000000e+05  100000.000000      100000.000000\n",
       "mean      19.671933  5.626550e+04    1016.893690           0.541610\n",
       "std       12.638870  2.620276e+05   15565.692133           0.498268\n",
       "min        0.000000  1.000000e+00       0.000000           0.000000\n",
       "25%       17.000000  6.807000e+03     149.000000           0.000000\n",
       "50%       19.000000  1.677250e+04     190.000000           1.000000\n",
       "75%       20.000000  3.990300e+04     236.000000           1.000000\n",
       "max       99.000000  2.145617e+07  818738.000000           1.000000"
      ]
     },
     "execution_count": 36,
     "metadata": {},
     "output_type": "execute_result"
    }
   ],
   "source": [
    "music_df.describe()"
   ]
  },
  {
   "cell_type": "markdown",
   "id": "1e0b9320",
   "metadata": {},
   "source": [
    "In the following code, we're trying to create a chart that shows the streams by platform. Once we do that, we can also start showing the streams by label."
   ]
  },
  {
   "cell_type": "code",
   "execution_count": 37,
   "id": "a67158eb",
   "metadata": {
    "scrolled": false
   },
   "outputs": [
    {
     "name": "stdout",
     "output_type": "stream",
     "text": [
      "<class 'pandas.core.frame.DataFrame'>\n",
      "RangeIndex: 29 entries, 0 to 28\n",
      "Data columns (total 2 columns):\n",
      " #   Column    Non-Null Count  Dtype  \n",
      "---  ------    --------------  -----  \n",
      " 0   Platform  29 non-null     object \n",
      " 1   Streams   29 non-null     float64\n",
      "dtypes: float64(1), object(1)\n",
      "memory usage: 592.0+ bytes\n"
     ]
    }
   ],
   "source": [
    "platform_sums = music_df.groupby(['Platform'], as_index=False).agg({'Streams':['sum']})\n",
    "#platform_sums = platform_sums.nlargest(n=5,columns=['Streams'])\n",
    "platform_sums.columns = ['Platform','Streams']\n",
    "platform_sums.info()"
   ]
  },
  {
   "cell_type": "code",
   "execution_count": 38,
   "id": "1e2df680",
   "metadata": {},
   "outputs": [
    {
     "data": {
      "text/html": [
       "<div>\n",
       "<style scoped>\n",
       "    .dataframe tbody tr th:only-of-type {\n",
       "        vertical-align: middle;\n",
       "    }\n",
       "\n",
       "    .dataframe tbody tr th {\n",
       "        vertical-align: top;\n",
       "    }\n",
       "\n",
       "    .dataframe thead th {\n",
       "        text-align: right;\n",
       "    }\n",
       "</style>\n",
       "<table border=\"1\" class=\"dataframe\">\n",
       "  <thead>\n",
       "    <tr style=\"text-align: right;\">\n",
       "      <th></th>\n",
       "      <th>Platform</th>\n",
       "      <th>Streams</th>\n",
       "    </tr>\n",
       "  </thead>\n",
       "  <tbody>\n",
       "    <tr>\n",
       "      <th>0</th>\n",
       "      <td>Amazon</td>\n",
       "      <td>1.511998e+08</td>\n",
       "    </tr>\n",
       "    <tr>\n",
       "      <th>1</th>\n",
       "      <td>Anghami</td>\n",
       "      <td>3.468200e+04</td>\n",
       "    </tr>\n",
       "    <tr>\n",
       "      <th>2</th>\n",
       "      <td>Apple</td>\n",
       "      <td>1.606454e+09</td>\n",
       "    </tr>\n",
       "    <tr>\n",
       "      <th>3</th>\n",
       "      <td>AudioMack</td>\n",
       "      <td>1.199156e+07</td>\n",
       "    </tr>\n",
       "    <tr>\n",
       "      <th>4</th>\n",
       "      <td>Classical Archives</td>\n",
       "      <td>2.000000e+01</td>\n",
       "    </tr>\n",
       "  </tbody>\n",
       "</table>\n",
       "</div>"
      ],
      "text/plain": [
       "             Platform       Streams\n",
       "0              Amazon  1.511998e+08\n",
       "1             Anghami  3.468200e+04\n",
       "2               Apple  1.606454e+09\n",
       "3           AudioMack  1.199156e+07\n",
       "4  Classical Archives  2.000000e+01"
      ]
     },
     "execution_count": 38,
     "metadata": {},
     "output_type": "execute_result"
    }
   ],
   "source": [
    "platform_sums.head()"
   ]
  },
  {
   "cell_type": "code",
   "execution_count": 39,
   "id": "699553f5",
   "metadata": {
    "scrolled": true
   },
   "outputs": [
    {
     "name": "stdout",
     "output_type": "stream",
     "text": [
      "<class 'pandas.core.frame.DataFrame'>\n",
      "RangeIndex: 11778 entries, 0 to 11777\n",
      "Data columns (total 2 columns):\n",
      " #   Column   Non-Null Count  Dtype \n",
      "---  ------   --------------  ----- \n",
      " 0   Label    11778 non-null  object\n",
      " 1   Streams  11778 non-null  int32 \n",
      "dtypes: int32(1), object(1)\n",
      "memory usage: 138.1+ KB\n"
     ]
    }
   ],
   "source": [
    "label_sums = music_df.groupby(['Label'], as_index=False).agg({'Streams':['sum']})\n",
    "label_sums.columns = ['Label','Streams']\n",
    "label_nulls = music_null.groupby(['Label'], as_index=False).agg({'Streams':['sum']})\n",
    "label_nulls.columns = ['Label','Streams']\n",
    "label_sums.info()"
   ]
  },
  {
   "cell_type": "code",
   "execution_count": 40,
   "id": "cf5a8e91",
   "metadata": {},
   "outputs": [
    {
     "name": "stdout",
     "output_type": "stream",
     "text": [
      "                                                  Label   Streams\n",
      "724                                    Epic/We The Best  31220490\n",
      "268                                    Atlantic Records  25374010\n",
      "674   Dreamville, Inc., Under exclusive license to R...  20748305\n",
      "437                       CMG/N-Less/Interscope Records  10006323\n",
      "130                                   300 Entertainment   8357327\n",
      "516                                            Columbia   6140304\n",
      "2204                                         eOne Music   5624968\n",
      "1479                                            Platoon   5187998\n",
      "948                                Imaginary Landscapes   5062116\n",
      "1589                                   Republic Records   4924867\n",
      "871                                  H$M Music / EMPIRE   4907585\n",
      "2099                                     Warner Records   4837819\n",
      "354                                     Big Boy Records   4257633\n",
      "867                          Guwop Enterprises/Atlantic   4216251\n",
      "1380                                                OVO   4181114\n",
      "1291                        Music VIP Entertainment Inc   4135589\n",
      "1427                 PDE Records/Same Plate/RCA Records   3898217\n",
      "1519               Quality Control Music/Motown Records   3865290\n",
      "256                            Art@War/Atlantic Records   3665832\n",
      "2085                                                WMG   3491746\n",
      "721                                                Epic   3290571\n",
      "714                           Elevation Worship Records   3155455\n",
      "1633                                          Routenote   3019733\n",
      "2076                                         WEA Latina   2917282\n",
      "2013                                          Universal   2666460\n",
      "1896                                     Tesla's Pigeon   2297358\n",
      "213                                       Alamo Records   2131858\n",
      "1164                                     M.A Music / 3D   2025120\n",
      "1732  Slaughter Gang, LLC/Epic/Boominati Worldwide/R...   1993571\n",
      "1784            South Coast Music Group/Capitol Records   1978157\n",
      "22                    1400 Entertainment / 10K Projects   1942083\n",
      "1442                                 Paper Route EMPIRE   1788785\n",
      "185                  AFFILIATE NATION/Forever Gang Ent.   1783561\n",
      "1584                                        Remex Music   1751349\n",
      "2136                         Winners Circle/RCA Records   1728560\n",
      "211                              Alamo (Geffen Records)   1695332\n",
      "1032                                       Kawai Sprite   1660137\n",
      "1605                            Rimas Entertainment LLC   1656887\n",
      "1761                                         Sony Music   1643529\n",
      "1538                                  RCA Records Label   1546557\n",
      "1409             Only The Family Entertainment / EMPIRE   1544741\n",
      "1783                            South Coast Music Group   1538630\n",
      "797                                     Fueled By Ramen   1532821\n",
      "2135          Winners Circle Entertainment Inc / EMPIRE   1448834\n",
      "696                                 EMPIRE Distribution   1445957\n",
      "567                                    DDG/Epic Records   1438351\n",
      "1577                             Redneck Nation Records   1432084\n",
      "1553                                     Rancho Humilde   1424453\n",
      "2105                                 Wavy Gang / EMPIRE   1411307\n",
      "1179                        Machine Entertainment Group   1405016\n"
     ]
    }
   ],
   "source": [
    "print(label_nulls.nlargest(n=50,columns=['Streams']))"
   ]
  },
  {
   "cell_type": "code",
   "execution_count": 41,
   "id": "fd01cec7",
   "metadata": {},
   "outputs": [
    {
     "name": "stdout",
     "output_type": "stream",
     "text": [
      "                                                   Label    Streams\n",
      "1738                                    Atlantic Records  172396961\n",
      "2979                                            Columbia  131147208\n",
      "842                                    300 Entertainment   96692925\n",
      "1418                              Alamo (Geffen Records)   88320747\n",
      "9861                                        Taylor Swift   77937703\n",
      "1420                                       Alamo Records   72800179\n",
      "6232                                        Lofi Records   69694317\n",
      "8445                                    Republic Records   64775231\n",
      "8160                                        RBMG/Def Jam   60845258\n",
      "10871                                     Warner Records   59667514\n",
      "3675   Dreamville, Inc., Under exclusive license to R...   52628821\n",
      "5439                                     Jay Rebel Music   43494541\n",
      "7455                                                 OVO   43332946\n",
      "2579                       CMG/N-Less/Interscope Records   42806653\n",
      "8100                Quality Control Music/Motown Records   36847850\n",
      "3993                                    Epic/We The Best   36604147\n",
      "4224                                               Filtr   33682616\n",
      "5738                        Kemosabe Records/RCA Records   33457973\n",
      "8175                                   RCA Records Label   32231816\n",
      "7897                                             Platoon   31573333\n",
      "8347                                      Rebel Music PS   29285158\n",
      "8276                                      Rancho Humilde   29045919\n",
      "7564                            Only The Family / EMPIRE   28316245\n",
      "4544                             Generation Now/Atlantic   27268797\n",
      "7516                                   Olivia Rodrigo PS   26934234\n",
      "2173                                 Big Loud / Republic   26878065\n",
      "5720                                        Kawai Sprite   26689625\n",
      "7726                                  Paper Route EMPIRE   26549624\n",
      "11392                                         eOne Music   25515789\n",
      "4795                          Guwop Enterprises/Atlantic   24873256\n",
      "7239                              Never Broke Again, LLC   24553835\n",
      "2828                                  ChilledCow Records   23933734\n",
      "5308                                      Island Records   22335840\n",
      "6475                                       MT Recordings   21376293\n",
      "172                   1400 Entertainment  / 10K Projects   19959264\n",
      "6608                                            Marca MP   19746084\n",
      "10787                                         WEA Latina   18728631\n",
      "5187                                Imaginary Landscapes   18615689\n",
      "7107                                       NF Real Music   18080958\n",
      "10847                                Walt Disney Records   17804290\n",
      "9160   Slaughter Gang, LLC/Epic/Boominati Worldwide/R...   17631952\n",
      "7245                                 New CMG Records P&D   17597891\n",
      "3973                                                Epic   17490225\n",
      "2596                                              CORPSE   17231441\n",
      "2664                                     Capitol Records   16796298\n",
      "8636                                     Rostrum Records   16680403\n",
      "1313                             AWGE/Interscope Records   16601736\n",
      "7639                                               P2020   16362828\n",
      "7047                         Music VIP Entertainment Inc   16188257\n",
      "2156                                     Big Boy Records   15962933\n"
     ]
    }
   ],
   "source": [
    "print(label_sums.nlargest(n=50,columns=['Streams']))"
   ]
  },
  {
   "cell_type": "markdown",
   "id": "66c9a8ed",
   "metadata": {},
   "source": [
    "Using the code in this markdown isn't working because we're trying to make a grid with a series.\n",
    "\n",
    "grid = sns.FacetGrid(music_df, hue = \"Platform\")\n",
    "grid.map(sns.barplot, music_df['Label'], music_df.groupby('Platform')['Streams'].sum())\n",
    "plt.xlim(reversed(plt.xlim()))\n",
    "grid.add_legend()"
   ]
  },
  {
   "cell_type": "code",
   "execution_count": 42,
   "id": "a617f032",
   "metadata": {
    "scrolled": false
   },
   "outputs": [
    {
     "name": "stderr",
     "output_type": "stream",
     "text": [
      "C:\\Users\\phili\\anaconda3\\lib\\site-packages\\seaborn\\_decorators.py:36: FutureWarning: Pass the following variables as keyword args: x, y. From version 0.12, the only valid positional argument will be `data`, and passing other arguments without an explicit keyword will result in an error or misinterpretation.\n",
      "  warnings.warn(\n"
     ]
    },
    {
     "data": {
      "text/plain": [
       "[Text(0, 0, 'Amazon'),\n",
       " Text(1, 0, 'Anghami'),\n",
       " Text(2, 0, 'Apple'),\n",
       " Text(3, 0, 'AudioMack'),\n",
       " Text(4, 0, 'Classical Archives'),\n",
       " Text(5, 0, 'Deezer'),\n",
       " Text(6, 0, 'Fan Label'),\n",
       " Text(7, 0, 'GTL'),\n",
       " Text(8, 0, 'LiveXLive'),\n",
       " Text(9, 0, 'Melodyv'),\n",
       " Text(10, 0, 'Midwest Tape'),\n",
       " Text(11, 0, 'MixCloud'),\n",
       " Text(12, 0, 'MonkingMe'),\n",
       " Text(13, 0, 'NugsNet'),\n",
       " Text(14, 0, 'Pacemaker'),\n",
       " Text(15, 0, 'Pandora'),\n",
       " Text(16, 0, 'PowerMusic'),\n",
       " Text(17, 0, 'Qoboz'),\n",
       " Text(18, 0, 'Recisio'),\n",
       " Text(19, 0, 'Smithsonian'),\n",
       " Text(20, 0, 'Sonos'),\n",
       " Text(21, 0, 'SoundCloud'),\n",
       " Text(22, 0, 'Spotify'),\n",
       " Text(23, 0, 'Tidal'),\n",
       " Text(24, 0, 'Trebel'),\n",
       " Text(25, 0, 'Ultimate Guitar'),\n",
       " Text(26, 0, 'Wolfgangs'),\n",
       " Text(27, 0, 'YouTube'),\n",
       " Text(28, 0, 'iHeart Radio')]"
      ]
     },
     "execution_count": 42,
     "metadata": {},
     "output_type": "execute_result"
    },
    {
     "data": {
      "image/png": "[encoded data removed]",
      "text/plain": [
       "<Figure size 432x288 with 1 Axes>"
      ]
     },
     "metadata": {
      "needs_background": "light"
     },
     "output_type": "display_data"
    }
   ],
   "source": [
    "platform_bar = sns.barplot(platform_sums['Platform'],platform_sums['Streams'])\n",
    "platform_bar.set_xticklabels(platform_bar.get_xticklabels(), rotation=45, horizontalalignment='right')\n",
    "#wow ok so this gives us a chart i suppose but not QUITE what we're looking for."
   ]
  },
  {
   "cell_type": "markdown",
   "id": "20f6ba93",
   "metadata": {},
   "source": [
    "label_nullbar = sns.barplot(label_nulls['Label'],label_nulls['Streams'])\n",
    "label_nullbar.set_xticklabels(label_nullbar.get_xticklabels(), rotation=45, horizontalalignment='right')\n",
    "#wow ok so this gives us a chart i suppose but not QUITE what we're looking for."
   ]
  },
  {
   "cell_type": "code",
   "execution_count": 43,
   "id": "e4d46287",
   "metadata": {
    "scrolled": false
   },
   "outputs": [
    {
     "name": "stdout",
     "output_type": "stream",
     "text": [
      "              Platform       Streams\n",
      "0               Amazon  1.511998e+08\n",
      "1              Anghami  3.468200e+04\n",
      "2                Apple  1.606454e+09\n",
      "3            AudioMack  1.199156e+07\n",
      "4   Classical Archives  2.000000e+01\n",
      "5               Deezer  8.783000e+04\n",
      "6            Fan Label  9.100000e+01\n",
      "7                  GTL  1.280764e+06\n",
      "8            LiveXLive  1.013070e+05\n",
      "9              Melodyv  5.384657e+06\n",
      "10        Midwest Tape  8.570800e+04\n",
      "11            MixCloud  2.661000e+03\n",
      "12           MonkingMe  3.549000e+03\n",
      "13             NugsNet  1.107090e+05\n",
      "14           Pacemaker  1.707000e+03\n",
      "15             Pandora  8.742366e+08\n",
      "16          PowerMusic  3.154000e+03\n",
      "17               Qoboz  6.621000e+03\n",
      "18             Recisio  2.900000e+01\n",
      "19         Smithsonian  2.080000e+02\n",
      "20               Sonos  3.140200e+04\n",
      "21          SoundCloud  1.668138e+08\n",
      "22             Spotify  2.552564e+09\n",
      "23               Tidal  4.879313e+07\n",
      "24              Trebel  1.493470e+05\n",
      "25     Ultimate Guitar  3.090000e+02\n",
      "26           Wolfgangs  9.650000e+02\n",
      "27             YouTube  1.580311e+08\n",
      "28        iHeart Radio  2.141959e+06\n"
     ]
    }
   ],
   "source": [
    "print(platform_sums)"
   ]
  },
  {
   "cell_type": "markdown",
   "id": "a0230f77",
   "metadata": {},
   "source": [
    "dataframe1 = pd.DataFrame(data={\"column1\": [1, 2, 3, 4, 5]})\n",
    "dataframe2 = pd.DataFrame(data={\"column1\": [1, 2]})\n",
    "\n",
    "common = dataframe1.merge(dataframe2, on=[\"column1\"])\n",
    "result = dataframe1[~dataframe1.column1.isin(common.column1)]"
   ]
  },
  {
   "cell_type": "code",
   "execution_count": 44,
   "id": "a6f59560",
   "metadata": {},
   "outputs": [
    {
     "ename": "TypeError",
     "evalue": "'float' object is not subscriptable",
     "output_type": "error",
     "traceback": [
      "\u001b[1;31m---------------------------------------------------------------------------\u001b[0m",
      "\u001b[1;31mTypeError\u001b[0m                                 Traceback (most recent call last)",
      "\u001b[1;32m~\\AppData\\Local\\Temp/ipykernel_23648/2567314913.py\u001b[0m in \u001b[0;36m<module>\u001b[1;34m\u001b[0m\n\u001b[0;32m      2\u001b[0m \u001b[0mISRCdecode\u001b[0m \u001b[1;33m=\u001b[0m \u001b[0mmusic_df\u001b[0m\u001b[1;33m[\u001b[0m\u001b[1;34m'ISRC'\u001b[0m\u001b[1;33m]\u001b[0m\u001b[1;33m\u001b[0m\u001b[1;33m\u001b[0m\u001b[0m\n\u001b[0;32m      3\u001b[0m \u001b[1;31m# Extract the ISRC code by artist\u001b[0m\u001b[1;33m\u001b[0m\u001b[1;33m\u001b[0m\u001b[0m\n\u001b[1;32m----> 4\u001b[1;33m \u001b[0mISRCdecodeartist\u001b[0m \u001b[1;33m=\u001b[0m \u001b[1;33m[\u001b[0m\u001b[0mentry\u001b[0m\u001b[1;33m[\u001b[0m\u001b[1;36m7\u001b[0m\u001b[1;33m:\u001b[0m\u001b[1;33m]\u001b[0m \u001b[1;32mfor\u001b[0m \u001b[0mentry\u001b[0m \u001b[1;32min\u001b[0m \u001b[0mISRCdecode\u001b[0m\u001b[1;33m]\u001b[0m\u001b[1;33m\u001b[0m\u001b[1;33m\u001b[0m\u001b[0m\n\u001b[0m\u001b[0;32m      5\u001b[0m \u001b[0mprint\u001b[0m\u001b[1;33m(\u001b[0m\u001b[0mISRCdecodeartist\u001b[0m\u001b[1;33m)\u001b[0m\u001b[1;33m\u001b[0m\u001b[1;33m\u001b[0m\u001b[0m\n",
      "\u001b[1;32m~\\AppData\\Local\\Temp/ipykernel_23648/2567314913.py\u001b[0m in \u001b[0;36m<listcomp>\u001b[1;34m(.0)\u001b[0m\n\u001b[0;32m      2\u001b[0m \u001b[0mISRCdecode\u001b[0m \u001b[1;33m=\u001b[0m \u001b[0mmusic_df\u001b[0m\u001b[1;33m[\u001b[0m\u001b[1;34m'ISRC'\u001b[0m\u001b[1;33m]\u001b[0m\u001b[1;33m\u001b[0m\u001b[1;33m\u001b[0m\u001b[0m\n\u001b[0;32m      3\u001b[0m \u001b[1;31m# Extract the ISRC code by artist\u001b[0m\u001b[1;33m\u001b[0m\u001b[1;33m\u001b[0m\u001b[0m\n\u001b[1;32m----> 4\u001b[1;33m \u001b[0mISRCdecodeartist\u001b[0m \u001b[1;33m=\u001b[0m \u001b[1;33m[\u001b[0m\u001b[0mentry\u001b[0m\u001b[1;33m[\u001b[0m\u001b[1;36m7\u001b[0m\u001b[1;33m:\u001b[0m\u001b[1;33m]\u001b[0m \u001b[1;32mfor\u001b[0m \u001b[0mentry\u001b[0m \u001b[1;32min\u001b[0m \u001b[0mISRCdecode\u001b[0m\u001b[1;33m]\u001b[0m\u001b[1;33m\u001b[0m\u001b[1;33m\u001b[0m\u001b[0m\n\u001b[0m\u001b[0;32m      5\u001b[0m \u001b[0mprint\u001b[0m\u001b[1;33m(\u001b[0m\u001b[0mISRCdecodeartist\u001b[0m\u001b[1;33m)\u001b[0m\u001b[1;33m\u001b[0m\u001b[1;33m\u001b[0m\u001b[0m\n",
      "\u001b[1;31mTypeError\u001b[0m: 'float' object is not subscriptable"
     ]
    }
   ],
   "source": [
    "# Extract the various columns from ISRC\n",
    "ISRCdecode = music_df['ISRC']\n",
    "# Extract the ISRC code by artist\n",
    "ISRCdecodeartist = [entry[7:] for entry in ISRCdecode]\n",
    "print(ISRCdecodeartist)"
   ]
  },
  {
   "cell_type": "code",
   "execution_count": 45,
   "id": "8d1fcd8e",
   "metadata": {},
   "outputs": [
    {
     "ename": "NameError",
     "evalue": "name 'ISRCdecodeartist' is not defined",
     "output_type": "error",
     "traceback": [
      "\u001b[1;31m---------------------------------------------------------------------------\u001b[0m",
      "\u001b[1;31mNameError\u001b[0m                                 Traceback (most recent call last)",
      "\u001b[1;32m~\\AppData\\Local\\Temp/ipykernel_23648/466269776.py\u001b[0m in \u001b[0;36m<module>\u001b[1;34m\u001b[0m\n\u001b[1;32m----> 1\u001b[1;33m \u001b[0martzip\u001b[0m \u001b[1;33m=\u001b[0m \u001b[1;33m(\u001b[0m\u001b[0mlist\u001b[0m\u001b[1;33m(\u001b[0m\u001b[0mmusic_df\u001b[0m\u001b[1;33m[\u001b[0m\u001b[1;34m'Artist'\u001b[0m\u001b[1;33m]\u001b[0m\u001b[1;33m)\u001b[0m\u001b[1;33m,\u001b[0m\u001b[0mISRCdecodeartist\u001b[0m\u001b[1;33m)\u001b[0m\u001b[1;33m\u001b[0m\u001b[1;33m\u001b[0m\u001b[0m\n\u001b[0m",
      "\u001b[1;31mNameError\u001b[0m: name 'ISRCdecodeartist' is not defined"
     ]
    }
   ],
   "source": [
    "artzip = (list(music_df['Artist']),ISRCdecodeartist)"
   ]
  },
  {
   "cell_type": "markdown",
   "id": "79c90f32",
   "metadata": {},
   "source": [
    "This is not doing what i want right now, but we'll get there!"
   ]
  },
  {
   "cell_type": "code",
   "execution_count": 46,
   "id": "52d6f2c5",
   "metadata": {},
   "outputs": [
    {
     "ename": "NameError",
     "evalue": "name 'artzip' is not defined",
     "output_type": "error",
     "traceback": [
      "\u001b[1;31m---------------------------------------------------------------------------\u001b[0m",
      "\u001b[1;31mNameError\u001b[0m                                 Traceback (most recent call last)",
      "\u001b[1;32m~\\AppData\\Local\\Temp/ipykernel_23648/112780042.py\u001b[0m in \u001b[0;36m<module>\u001b[1;34m\u001b[0m\n\u001b[1;32m----> 1\u001b[1;33m \u001b[0mprint\u001b[0m\u001b[1;33m(\u001b[0m\u001b[0martzip\u001b[0m\u001b[1;33m)\u001b[0m\u001b[1;33m\u001b[0m\u001b[1;33m\u001b[0m\u001b[0m\n\u001b[0m",
      "\u001b[1;31mNameError\u001b[0m: name 'artzip' is not defined"
     ]
    }
   ],
   "source": [
    "print(artzip)"
   ]
  },
  {
   "cell_type": "code",
   "execution_count": 47,
   "id": "25086d2c",
   "metadata": {},
   "outputs": [
    {
     "name": "stderr",
     "output_type": "stream",
     "text": [
      "C:\\Users\\phili\\anaconda3\\lib\\site-packages\\seaborn\\distributions.py:2619: FutureWarning: `distplot` is a deprecated function and will be removed in a future version. Please adapt your code to use either `displot` (a figure-level function with similar flexibility) or `histplot` (an axes-level function for histograms).\n",
      "  warnings.warn(msg, FutureWarning)\n"
     ]
    },
    {
     "data": {
      "text/plain": [
       "<AxesSubplot:xlabel='Streams', ylabel='Density'>"
      ]
     },
     "execution_count": 47,
     "metadata": {},
     "output_type": "execute_result"
    },
    {
     "data": {
      "image/png": "[encoded data removed]",
      "text/plain": [
       "<Figure size 432x288 with 1 Axes>"
      ]
     },
     "metadata": {
      "needs_background": "light"
     },
     "output_type": "display_data"
    }
   ],
   "source": [
    "sns.distplot(music_df['Streams'], color='b')"
   ]
  },
  {
   "cell_type": "code",
   "execution_count": null,
   "id": "903e6f0d",
   "metadata": {},
   "outputs": [],
   "source": [
    "# use the scatterplot function to build the bubble map\n",
    "sns.scatterplot(data=music_df, x=\"gdpPercap\", y=\"lifeExp\", size=\"pop\", legend=False, sizes=(20, 2000))\n",
    "\n",
    "# show the graph\n",
    "plt.show()"
   ]
  }
 ],
 "metadata": {
  "kernelspec": {
   "display_name": "Python 3 (ipykernel)",
   "language": "python",
   "name": "python3"
  },
  "language_info": {
   "codemirror_mode": {
    "name": "ipython",
    "version": 3
   },
   "file_extension": ".py",
   "mimetype": "text/x-python",
   "name": "python",
   "nbconvert_exporter": "python",
   "pygments_lexer": "ipython3",
   "version": "3.9.7"
  }
 },
 "nbformat": 4,
 "nbformat_minor": 5
}
