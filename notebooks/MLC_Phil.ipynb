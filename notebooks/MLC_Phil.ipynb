{
 "cells": [
  {
   "cell_type": "code",
   "execution_count": 1,
   "id": "77c3fbcd",
   "metadata": {},
   "outputs": [],
   "source": [
    "import pandas as pd\n",
    "import numpy as np\n",
    "import matplotlib.pyplot as plt\n",
    "import seaborn as sns\n",
    "import json"
   ]
  },
  {
   "cell_type": "markdown",
   "id": "739295c0",
   "metadata": {},
   "source": [
    "Might as well just upload those because that what you do in python."
   ]
  },
  {
   "cell_type": "code",
   "execution_count": 2,
   "id": "c4ff0566",
   "metadata": {},
   "outputs": [],
   "source": [
    "%matplotlib inline"
   ]
  },
  {
   "cell_type": "code",
   "execution_count": 3,
   "id": "302f5465",
   "metadata": {},
   "outputs": [],
   "source": [
    "music_df = pd.read_csv(\"../data/NSS-Sample.csv\")"
   ]
  },
  {
   "cell_type": "code",
   "execution_count": 4,
   "id": "568d7b15",
   "metadata": {},
   "outputs": [],
   "source": [
    "music_df = music_df.rename(columns={\"If \":\"ISRC\"})"
   ]
  },
  {
   "cell_type": "code",
   "execution_count": 5,
   "id": "70684990",
   "metadata": {},
   "outputs": [
    {
     "data": {
      "text/html": [
       "<div>\n",
       "<style scoped>\n",
       "    .dataframe tbody tr th:only-of-type {\n",
       "        vertical-align: middle;\n",
       "    }\n",
       "\n",
       "    .dataframe tbody tr th {\n",
       "        vertical-align: top;\n",
       "    }\n",
       "\n",
       "    .dataframe thead th {\n",
       "        text-align: right;\n",
       "    }\n",
       "</style>\n",
       "<table border=\"1\" class=\"dataframe\">\n",
       "  <thead>\n",
       "    <tr style=\"text-align: right;\">\n",
       "      <th></th>\n",
       "      <th>ISRC</th>\n",
       "      <th>Country Code</th>\n",
       "      <th>Registrant Code</th>\n",
       "      <th>Year of Reference</th>\n",
       "      <th>Usage Period</th>\n",
       "      <th>Streaming Platform (DSP)</th>\n",
       "      <th>Streams</th>\n",
       "      <th>Recording Artist</th>\n",
       "      <th>Recording Label</th>\n",
       "      <th>Recording Title</th>\n",
       "      <th>Release Title</th>\n",
       "      <th>Recording Duration (Seconds)</th>\n",
       "      <th>Songwriter's Listed (1 = \"Yes\", 0 = \"No\")</th>\n",
       "    </tr>\n",
       "  </thead>\n",
       "  <tbody>\n",
       "    <tr>\n",
       "      <th>0</th>\n",
       "      <td>USUG12101043</td>\n",
       "      <td>US</td>\n",
       "      <td>UG1</td>\n",
       "      <td>21.0</td>\n",
       "      <td>NaN</td>\n",
       "      <td>AudioMack</td>\n",
       "      <td>10,175</td>\n",
       "      <td>Future</td>\n",
       "      <td>NaN</td>\n",
       "      <td>FUTURE FT DEJ LOAF HEY THERE PROD BY DDS</td>\n",
       "      <td>#unknown#</td>\n",
       "      <td>181</td>\n",
       "      <td>0</td>\n",
       "    </tr>\n",
       "    <tr>\n",
       "      <th>1</th>\n",
       "      <td>USRC12100543</td>\n",
       "      <td>US</td>\n",
       "      <td>RC1</td>\n",
       "      <td>21.0</td>\n",
       "      <td>NaN</td>\n",
       "      <td>SoundCloud</td>\n",
       "      <td>8,597</td>\n",
       "      <td>LUCKY3RD</td>\n",
       "      <td>LUCKY3RD</td>\n",
       "      <td>Keep It Cool  LUCKY3RD</td>\n",
       "      <td>Keep It Cool  LUCKY3RD</td>\n",
       "      <td>133</td>\n",
       "      <td>0</td>\n",
       "    </tr>\n",
       "    <tr>\n",
       "      <th>2</th>\n",
       "      <td>USSM12102263</td>\n",
       "      <td>US</td>\n",
       "      <td>SM1</td>\n",
       "      <td>21.0</td>\n",
       "      <td>NaN</td>\n",
       "      <td>SoundCloud</td>\n",
       "      <td>261,280</td>\n",
       "      <td>LUCKY3RD</td>\n",
       "      <td>LUCKY3RD</td>\n",
       "      <td>Life Goes On  LUCKY3RD</td>\n",
       "      <td>Life Goes On  LUCKY3RD</td>\n",
       "      <td>171</td>\n",
       "      <td>0</td>\n",
       "    </tr>\n",
       "    <tr>\n",
       "      <th>3</th>\n",
       "      <td>USLD91731547</td>\n",
       "      <td>US</td>\n",
       "      <td>LD9</td>\n",
       "      <td>17.0</td>\n",
       "      <td>2/1/2021</td>\n",
       "      <td>Trebel</td>\n",
       "      <td>5</td>\n",
       "      <td>Bachata &amp; Merengue Mix</td>\n",
       "      <td>Orchard</td>\n",
       "      <td>No dudes de mi- Merengue &amp; Bachata Mix</td>\n",
       "      <td>Mega Mix 2010</td>\n",
       "      <td>1250</td>\n",
       "      <td>0</td>\n",
       "    </tr>\n",
       "    <tr>\n",
       "      <th>4</th>\n",
       "      <td>USAT22007048</td>\n",
       "      <td>US</td>\n",
       "      <td>AT2</td>\n",
       "      <td>20.0</td>\n",
       "      <td>NaN</td>\n",
       "      <td>AudioMack</td>\n",
       "      <td>62,105</td>\n",
       "      <td>Foolio</td>\n",
       "      <td>NaN</td>\n",
       "      <td>WHEN I SEE YOU REMIX</td>\n",
       "      <td>#unknown#</td>\n",
       "      <td>187</td>\n",
       "      <td>0</td>\n",
       "    </tr>\n",
       "  </tbody>\n",
       "</table>\n",
       "</div>"
      ],
      "text/plain": [
       "           ISRC Country Code Registrant Code  Year of Reference Usage Period  \\\n",
       "0  USUG12101043           US             UG1               21.0          NaN   \n",
       "1  USRC12100543           US             RC1               21.0          NaN   \n",
       "2  USSM12102263           US             SM1               21.0          NaN   \n",
       "3  USLD91731547           US             LD9               17.0     2/1/2021   \n",
       "4  USAT22007048           US             AT2               20.0          NaN   \n",
       "\n",
       "  Streaming Platform (DSP)    Streams        Recording Artist Recording Label  \\\n",
       "0                AudioMack    10,175                   Future             NaN   \n",
       "1               SoundCloud     8,597                 LUCKY3RD        LUCKY3RD   \n",
       "2               SoundCloud   261,280                 LUCKY3RD        LUCKY3RD   \n",
       "3                   Trebel         5   Bachata & Merengue Mix         Orchard   \n",
       "4                AudioMack    62,105                   Foolio             NaN   \n",
       "\n",
       "                             Recording Title            Release Title  \\\n",
       "0   FUTURE FT DEJ LOAF HEY THERE PROD BY DDS                #unknown#   \n",
       "1                     Keep It Cool  LUCKY3RD   Keep It Cool  LUCKY3RD   \n",
       "2                     Life Goes On  LUCKY3RD   Life Goes On  LUCKY3RD   \n",
       "3     No dudes de mi- Merengue & Bachata Mix            Mega Mix 2010   \n",
       "4                       WHEN I SEE YOU REMIX                #unknown#   \n",
       "\n",
       "   Recording Duration (Seconds)  Songwriter's Listed (1 = \"Yes\", 0 = \"No\")  \n",
       "0                           181                                          0  \n",
       "1                           133                                          0  \n",
       "2                           171                                          0  \n",
       "3                          1250                                          0  \n",
       "4                           187                                          0  "
      ]
     },
     "execution_count": 5,
     "metadata": {},
     "output_type": "execute_result"
    }
   ],
   "source": [
    "music_df.head()"
   ]
  },
  {
   "cell_type": "code",
   "execution_count": 6,
   "id": "642997e1",
   "metadata": {
    "scrolled": true
   },
   "outputs": [
    {
     "data": {
      "text/plain": [
       "ISRC                                         1760\n",
       "Country Code                                 1697\n",
       "Registrant Code                              1697\n",
       "Year of Reference                            1761\n",
       "Usage Period                                 8102\n",
       "Streaming Platform (DSP)                     3999\n",
       "Streams                                         0\n",
       "Recording Artist                                0\n",
       "Recording Label                              1008\n",
       "Recording Title                                 0\n",
       "Release Title                                  69\n",
       "Recording Duration (Seconds)                    0\n",
       "Songwriter's Listed (1 = \"Yes\", 0 = \"No\")       0\n",
       "dtype: int64"
      ]
     },
     "execution_count": 6,
     "metadata": {},
     "output_type": "execute_result"
    }
   ],
   "source": [
    "music_df.isnull().sum()"
   ]
  },
  {
   "cell_type": "code",
   "execution_count": 7,
   "id": "915bdf54",
   "metadata": {},
   "outputs": [],
   "source": [
    "music_df[\"ISRC\"].fillna(\"\", inplace = True)\n",
    "music_df[\"Country Code\"].fillna(\"\", inplace = True)\n",
    "music_df[\"Registrant Code\"].fillna(\"\", inplace = True)\n",
    "music_df[\"Year of Reference\"].fillna(\"\", inplace = True)\n",
    "music_df[\"Usage Period\"].fillna(\"\", inplace = True)\n",
    "music_df[\"Streaming Platform (DSP)\"].fillna(\"\", inplace = True)\n",
    "music_df[\"Streams\"].fillna(\"\", inplace = True)\n",
    "music_df[\"Recording Artist\"].fillna(\"\", inplace = True)\n",
    "music_df[\"Recording Label\"].fillna(\"\", inplace = True)\n",
    "music_df[\"Recording Title\"].fillna(\"\", inplace = True)\n",
    "music_df[\"Release Title\"].fillna(\"\", inplace = True)\n",
    "music_df[\"Recording Duration (Seconds)\"].fillna(\"\", inplace = True)"
   ]
  },
  {
   "cell_type": "code",
   "execution_count": 8,
   "id": "6aa262fb",
   "metadata": {},
   "outputs": [
    {
     "data": {
      "text/plain": [
       "ISRC                                         0\n",
       "Country Code                                 0\n",
       "Registrant Code                              0\n",
       "Year of Reference                            0\n",
       "Usage Period                                 0\n",
       "Streaming Platform (DSP)                     0\n",
       "Streams                                      0\n",
       "Recording Artist                             0\n",
       "Recording Label                              0\n",
       "Recording Title                              0\n",
       "Release Title                                0\n",
       "Recording Duration (Seconds)                 0\n",
       "Songwriter's Listed (1 = \"Yes\", 0 = \"No\")    0\n",
       "dtype: int64"
      ]
     },
     "execution_count": 8,
     "metadata": {},
     "output_type": "execute_result"
    }
   ],
   "source": [
    "music_df.isnull().sum()"
   ]
  },
  {
   "cell_type": "code",
   "execution_count": 9,
   "id": "9b192d6d",
   "metadata": {},
   "outputs": [],
   "source": [
    "music_df=music_df.set_axis([\"ISRC\",\"Country\",\"Registrant\",\"Year\",\"Month_Streamed\",\n",
    "                            \"Platform\",\"Streams\",\"Artist\",\"Label\",\"Recording_Title\",\"Release_Title\",\n",
    "                            \"Duration_Sec\",\"Songwriter_Listed\"], axis=1)"
   ]
  },
  {
   "cell_type": "code",
   "execution_count": 10,
   "id": "3af3bde6",
   "metadata": {},
   "outputs": [],
   "source": [
    "music_df['Streams'] = music_df['Streams'].astype(str)\n",
    "music_df['Streams']=music_df['Streams'].str.replace(',','')\n",
    "music_df['Streams'] = music_df['Streams'].astype(int)"
   ]
  },
  {
   "cell_type": "markdown",
   "id": "9b39f33b",
   "metadata": {},
   "source": [
    "So we're having an extrordinarily difficult time turning the years column into an integer. Why is this an impossible feat? Why does it refuse to turn into a string even though there are no nulls? Why does it refuse to turn into a float when there are no nulls???"
   ]
  },
  {
   "cell_type": "code",
   "execution_count": 11,
   "id": "69661ad7",
   "metadata": {},
   "outputs": [],
   "source": [
    "indie = music_df[music_df['Artist'] == music_df['Label']]"
   ]
  },
  {
   "cell_type": "code",
   "execution_count": 12,
   "id": "a0444cfb",
   "metadata": {
    "scrolled": false
   },
   "outputs": [
    {
     "name": "stdout",
     "output_type": "stream",
     "text": [
      "<class 'pandas.core.frame.DataFrame'>\n",
      "RangeIndex: 100000 entries, 0 to 99999\n",
      "Data columns (total 13 columns):\n",
      " #   Column             Non-Null Count   Dtype \n",
      "---  ------             --------------   ----- \n",
      " 0   ISRC               100000 non-null  object\n",
      " 1   Country            100000 non-null  object\n",
      " 2   Registrant         100000 non-null  object\n",
      " 3   Year               100000 non-null  object\n",
      " 4   Month_Streamed     100000 non-null  object\n",
      " 5   Platform           100000 non-null  object\n",
      " 6   Streams            100000 non-null  int32 \n",
      " 7   Artist             100000 non-null  object\n",
      " 8   Label              100000 non-null  object\n",
      " 9   Recording_Title    100000 non-null  object\n",
      " 10  Release_Title      100000 non-null  object\n",
      " 11  Duration_Sec       100000 non-null  int64 \n",
      " 12  Songwriter_Listed  100000 non-null  int64 \n",
      "dtypes: int32(1), int64(2), object(10)\n",
      "memory usage: 9.5+ MB\n"
     ]
    }
   ],
   "source": [
    "music_df.info()"
   ]
  },
  {
   "cell_type": "code",
   "execution_count": 13,
   "id": "857a6111",
   "metadata": {
    "scrolled": true
   },
   "outputs": [
    {
     "name": "stdout",
     "output_type": "stream",
     "text": [
      "<class 'pandas.core.frame.DataFrame'>\n",
      "Int64Index: 11059 entries, 1 to 99940\n",
      "Data columns (total 13 columns):\n",
      " #   Column             Non-Null Count  Dtype \n",
      "---  ------             --------------  ----- \n",
      " 0   ISRC               11059 non-null  object\n",
      " 1   Country            11059 non-null  object\n",
      " 2   Registrant         11059 non-null  object\n",
      " 3   Year               11059 non-null  object\n",
      " 4   Month_Streamed     11059 non-null  object\n",
      " 5   Platform           11059 non-null  object\n",
      " 6   Streams            11059 non-null  int32 \n",
      " 7   Artist             11059 non-null  object\n",
      " 8   Label              11059 non-null  object\n",
      " 9   Recording_Title    11059 non-null  object\n",
      " 10  Release_Title      11059 non-null  object\n",
      " 11  Duration_Sec       11059 non-null  int64 \n",
      " 12  Songwriter_Listed  11059 non-null  int64 \n",
      "dtypes: int32(1), int64(2), object(10)\n",
      "memory usage: 1.1+ MB\n"
     ]
    }
   ],
   "source": [
    "indie.info()"
   ]
  },
  {
   "cell_type": "code",
   "execution_count": 14,
   "id": "4c412a14",
   "metadata": {},
   "outputs": [],
   "source": [
    "not_indie = music_df[music_df['Artist'] != music_df['Label']]"
   ]
  },
  {
   "cell_type": "code",
   "execution_count": 15,
   "id": "49860a00",
   "metadata": {},
   "outputs": [
    {
     "ename": "ValueError",
     "evalue": "Can only compare identically-labeled Series objects",
     "output_type": "error",
     "traceback": [
      "\u001b[1;31m---------------------------------------------------------------------------\u001b[0m",
      "\u001b[1;31mValueError\u001b[0m                                Traceback (most recent call last)",
      "\u001b[1;32m~\\AppData\\Local\\Temp/ipykernel_9744/3299211455.py\u001b[0m in \u001b[0;36m<module>\u001b[1;34m\u001b[0m\n\u001b[1;32m----> 1\u001b[1;33m \u001b[0mcheck_indie\u001b[0m \u001b[1;33m=\u001b[0m \u001b[0mindie\u001b[0m\u001b[1;33m[\u001b[0m\u001b[0mindie\u001b[0m\u001b[1;33m[\u001b[0m\u001b[1;34m'Label'\u001b[0m\u001b[1;33m]\u001b[0m \u001b[1;33m==\u001b[0m \u001b[0mnot_indie\u001b[0m\u001b[1;33m[\u001b[0m\u001b[1;34m'Label'\u001b[0m\u001b[1;33m]\u001b[0m\u001b[1;33m]\u001b[0m\u001b[1;33m\u001b[0m\u001b[1;33m\u001b[0m\u001b[0m\n\u001b[0m\u001b[0;32m      2\u001b[0m \u001b[1;31m#this bad boy isn't quite running properly.\u001b[0m\u001b[1;33m\u001b[0m\u001b[1;33m\u001b[0m\u001b[0m\n",
      "\u001b[1;32m~\\anaconda3\\lib\\site-packages\\pandas\\core\\ops\\common.py\u001b[0m in \u001b[0;36mnew_method\u001b[1;34m(self, other)\u001b[0m\n\u001b[0;32m     67\u001b[0m         \u001b[0mother\u001b[0m \u001b[1;33m=\u001b[0m \u001b[0mitem_from_zerodim\u001b[0m\u001b[1;33m(\u001b[0m\u001b[0mother\u001b[0m\u001b[1;33m)\u001b[0m\u001b[1;33m\u001b[0m\u001b[1;33m\u001b[0m\u001b[0m\n\u001b[0;32m     68\u001b[0m \u001b[1;33m\u001b[0m\u001b[0m\n\u001b[1;32m---> 69\u001b[1;33m         \u001b[1;32mreturn\u001b[0m \u001b[0mmethod\u001b[0m\u001b[1;33m(\u001b[0m\u001b[0mself\u001b[0m\u001b[1;33m,\u001b[0m \u001b[0mother\u001b[0m\u001b[1;33m)\u001b[0m\u001b[1;33m\u001b[0m\u001b[1;33m\u001b[0m\u001b[0m\n\u001b[0m\u001b[0;32m     70\u001b[0m \u001b[1;33m\u001b[0m\u001b[0m\n\u001b[0;32m     71\u001b[0m     \u001b[1;32mreturn\u001b[0m \u001b[0mnew_method\u001b[0m\u001b[1;33m\u001b[0m\u001b[1;33m\u001b[0m\u001b[0m\n",
      "\u001b[1;32m~\\anaconda3\\lib\\site-packages\\pandas\\core\\arraylike.py\u001b[0m in \u001b[0;36m__eq__\u001b[1;34m(self, other)\u001b[0m\n\u001b[0;32m     30\u001b[0m     \u001b[1;33m@\u001b[0m\u001b[0munpack_zerodim_and_defer\u001b[0m\u001b[1;33m(\u001b[0m\u001b[1;34m\"__eq__\"\u001b[0m\u001b[1;33m)\u001b[0m\u001b[1;33m\u001b[0m\u001b[1;33m\u001b[0m\u001b[0m\n\u001b[0;32m     31\u001b[0m     \u001b[1;32mdef\u001b[0m \u001b[0m__eq__\u001b[0m\u001b[1;33m(\u001b[0m\u001b[0mself\u001b[0m\u001b[1;33m,\u001b[0m \u001b[0mother\u001b[0m\u001b[1;33m)\u001b[0m\u001b[1;33m:\u001b[0m\u001b[1;33m\u001b[0m\u001b[1;33m\u001b[0m\u001b[0m\n\u001b[1;32m---> 32\u001b[1;33m         \u001b[1;32mreturn\u001b[0m \u001b[0mself\u001b[0m\u001b[1;33m.\u001b[0m\u001b[0m_cmp_method\u001b[0m\u001b[1;33m(\u001b[0m\u001b[0mother\u001b[0m\u001b[1;33m,\u001b[0m \u001b[0moperator\u001b[0m\u001b[1;33m.\u001b[0m\u001b[0meq\u001b[0m\u001b[1;33m)\u001b[0m\u001b[1;33m\u001b[0m\u001b[1;33m\u001b[0m\u001b[0m\n\u001b[0m\u001b[0;32m     33\u001b[0m \u001b[1;33m\u001b[0m\u001b[0m\n\u001b[0;32m     34\u001b[0m     \u001b[1;33m@\u001b[0m\u001b[0munpack_zerodim_and_defer\u001b[0m\u001b[1;33m(\u001b[0m\u001b[1;34m\"__ne__\"\u001b[0m\u001b[1;33m)\u001b[0m\u001b[1;33m\u001b[0m\u001b[1;33m\u001b[0m\u001b[0m\n",
      "\u001b[1;32m~\\anaconda3\\lib\\site-packages\\pandas\\core\\series.py\u001b[0m in \u001b[0;36m_cmp_method\u001b[1;34m(self, other, op)\u001b[0m\n\u001b[0;32m   5494\u001b[0m \u001b[1;33m\u001b[0m\u001b[0m\n\u001b[0;32m   5495\u001b[0m         \u001b[1;32mif\u001b[0m \u001b[0misinstance\u001b[0m\u001b[1;33m(\u001b[0m\u001b[0mother\u001b[0m\u001b[1;33m,\u001b[0m \u001b[0mSeries\u001b[0m\u001b[1;33m)\u001b[0m \u001b[1;32mand\u001b[0m \u001b[1;32mnot\u001b[0m \u001b[0mself\u001b[0m\u001b[1;33m.\u001b[0m\u001b[0m_indexed_same\u001b[0m\u001b[1;33m(\u001b[0m\u001b[0mother\u001b[0m\u001b[1;33m)\u001b[0m\u001b[1;33m:\u001b[0m\u001b[1;33m\u001b[0m\u001b[1;33m\u001b[0m\u001b[0m\n\u001b[1;32m-> 5496\u001b[1;33m             \u001b[1;32mraise\u001b[0m \u001b[0mValueError\u001b[0m\u001b[1;33m(\u001b[0m\u001b[1;34m\"Can only compare identically-labeled Series objects\"\u001b[0m\u001b[1;33m)\u001b[0m\u001b[1;33m\u001b[0m\u001b[1;33m\u001b[0m\u001b[0m\n\u001b[0m\u001b[0;32m   5497\u001b[0m \u001b[1;33m\u001b[0m\u001b[0m\n\u001b[0;32m   5498\u001b[0m         \u001b[0mlvalues\u001b[0m \u001b[1;33m=\u001b[0m \u001b[0mself\u001b[0m\u001b[1;33m.\u001b[0m\u001b[0m_values\u001b[0m\u001b[1;33m\u001b[0m\u001b[1;33m\u001b[0m\u001b[0m\n",
      "\u001b[1;31mValueError\u001b[0m: Can only compare identically-labeled Series objects"
     ]
    }
   ],
   "source": [
    "check_indie = indie[indie['Label'] == not_indie['Label']]\n",
    "#this bad boy isn't quite running properly."
   ]
  },
  {
   "cell_type": "code",
   "execution_count": 16,
   "id": "6a23f985",
   "metadata": {},
   "outputs": [
    {
     "data": {
      "text/html": [
       "<div>\n",
       "<style scoped>\n",
       "    .dataframe tbody tr th:only-of-type {\n",
       "        vertical-align: middle;\n",
       "    }\n",
       "\n",
       "    .dataframe tbody tr th {\n",
       "        vertical-align: top;\n",
       "    }\n",
       "\n",
       "    .dataframe thead th {\n",
       "        text-align: right;\n",
       "    }\n",
       "</style>\n",
       "<table border=\"1\" class=\"dataframe\">\n",
       "  <thead>\n",
       "    <tr style=\"text-align: right;\">\n",
       "      <th></th>\n",
       "      <th>ISRC</th>\n",
       "      <th>Country</th>\n",
       "      <th>Registrant</th>\n",
       "      <th>Year</th>\n",
       "      <th>Month_Streamed</th>\n",
       "      <th>Platform</th>\n",
       "      <th>Streams</th>\n",
       "      <th>Artist</th>\n",
       "      <th>Label</th>\n",
       "      <th>Recording_Title</th>\n",
       "      <th>Release_Title</th>\n",
       "      <th>Duration_Sec</th>\n",
       "      <th>Songwriter_Listed</th>\n",
       "    </tr>\n",
       "  </thead>\n",
       "  <tbody>\n",
       "    <tr>\n",
       "      <th>99995</th>\n",
       "      <td>QZK6F2019397</td>\n",
       "      <td>QZ</td>\n",
       "      <td>K6F</td>\n",
       "      <td>20.0</td>\n",
       "      <td>3/1/2021</td>\n",
       "      <td>Spotify</td>\n",
       "      <td>28549</td>\n",
       "      <td>Myuk</td>\n",
       "      <td>Sony Music Labels Inc.</td>\n",
       "      <td>魔法 - Anime Size</td>\n",
       "      <td>魔法 (Anime Size)</td>\n",
       "      <td>89</td>\n",
       "      <td>1</td>\n",
       "    </tr>\n",
       "    <tr>\n",
       "      <th>99996</th>\n",
       "      <td>QZK6F2019397</td>\n",
       "      <td>QZ</td>\n",
       "      <td>K6F</td>\n",
       "      <td>20.0</td>\n",
       "      <td>3/1/2021</td>\n",
       "      <td>Spotify</td>\n",
       "      <td>28941</td>\n",
       "      <td>yama</td>\n",
       "      <td>Sony Music Labels Inc.</td>\n",
       "      <td>麻痺</td>\n",
       "      <td>麻痺</td>\n",
       "      <td>199</td>\n",
       "      <td>1</td>\n",
       "    </tr>\n",
       "    <tr>\n",
       "      <th>99997</th>\n",
       "      <td>SE6HN1926755</td>\n",
       "      <td>SE</td>\n",
       "      <td>6HN</td>\n",
       "      <td>19.0</td>\n",
       "      <td>3/1/2021</td>\n",
       "      <td>Spotify</td>\n",
       "      <td>28941</td>\n",
       "      <td>yama</td>\n",
       "      <td>Sony Music Labels Inc.</td>\n",
       "      <td>麻痺</td>\n",
       "      <td>麻痺</td>\n",
       "      <td>199</td>\n",
       "      <td>1</td>\n",
       "    </tr>\n",
       "    <tr>\n",
       "      <th>99998</th>\n",
       "      <td>SEYOK1669274</td>\n",
       "      <td>SE</td>\n",
       "      <td>YOK</td>\n",
       "      <td>16.0</td>\n",
       "      <td>3/1/2021</td>\n",
       "      <td>Apple</td>\n",
       "      <td>8970</td>\n",
       "      <td>yama</td>\n",
       "      <td>Sony Music Labels Inc.</td>\n",
       "      <td>麻痺</td>\n",
       "      <td>麻痺 - Single</td>\n",
       "      <td>198</td>\n",
       "      <td>1</td>\n",
       "    </tr>\n",
       "    <tr>\n",
       "      <th>99999</th>\n",
       "      <td>QZK6F2019397</td>\n",
       "      <td>QZ</td>\n",
       "      <td>K6F</td>\n",
       "      <td>20.0</td>\n",
       "      <td>2/1/2021</td>\n",
       "      <td>Spotify</td>\n",
       "      <td>11245</td>\n",
       "      <td>Lexie Liu</td>\n",
       "      <td>泥鞋（北京）文化传媒有限公司</td>\n",
       "      <td>黑洞 Metropolis</td>\n",
       "      <td>无限意识 Meta Ego</td>\n",
       "      <td>259</td>\n",
       "      <td>1</td>\n",
       "    </tr>\n",
       "  </tbody>\n",
       "</table>\n",
       "</div>"
      ],
      "text/plain": [
       "               ISRC Country Registrant  Year Month_Streamed Platform  Streams  \\\n",
       "99995  QZK6F2019397      QZ        K6F  20.0       3/1/2021  Spotify    28549   \n",
       "99996  QZK6F2019397      QZ        K6F  20.0       3/1/2021  Spotify    28941   \n",
       "99997  SE6HN1926755      SE        6HN  19.0       3/1/2021  Spotify    28941   \n",
       "99998  SEYOK1669274      SE        YOK  16.0       3/1/2021    Apple     8970   \n",
       "99999  QZK6F2019397      QZ        K6F  20.0       2/1/2021  Spotify    11245   \n",
       "\n",
       "          Artist                   Label  Recording_Title    Release_Title  \\\n",
       "99995       Myuk  Sony Music Labels Inc.  魔法 - Anime Size  魔法 (Anime Size)   \n",
       "99996       yama  Sony Music Labels Inc.               麻痺               麻痺   \n",
       "99997       yama  Sony Music Labels Inc.               麻痺               麻痺   \n",
       "99998       yama  Sony Music Labels Inc.               麻痺      麻痺 - Single   \n",
       "99999  Lexie Liu          泥鞋（北京）文化传媒有限公司    黑洞 Metropolis    无限意识 Meta Ego   \n",
       "\n",
       "       Duration_Sec  Songwriter_Listed  \n",
       "99995            89                  1  \n",
       "99996           199                  1  \n",
       "99997           199                  1  \n",
       "99998           198                  1  \n",
       "99999           259                  1  "
      ]
     },
     "execution_count": 16,
     "metadata": {},
     "output_type": "execute_result"
    }
   ],
   "source": [
    "music_df.tail()"
   ]
  },
  {
   "cell_type": "code",
   "execution_count": 17,
   "id": "242cce00",
   "metadata": {},
   "outputs": [
    {
     "data": {
      "text/plain": [
       "20.0    31143\n",
       "21.0    13510\n",
       "19.0    11577\n",
       "18.0     8556\n",
       "17.0     6025\n",
       "        ...  \n",
       "44.0        2\n",
       "50.0        1\n",
       "48.0        1\n",
       "49.0        1\n",
       "40.0        1\n",
       "Name: Year, Length: 96, dtype: int64"
      ]
     },
     "execution_count": 17,
     "metadata": {},
     "output_type": "execute_result"
    }
   ],
   "source": [
    "music_df['Year'].value_counts()\n",
    "#people_df.sex.value_counts()"
   ]
  },
  {
   "cell_type": "code",
   "execution_count": 18,
   "id": "94e53581",
   "metadata": {},
   "outputs": [
    {
     "data": {
      "text/html": [
       "<div>\n",
       "<style scoped>\n",
       "    .dataframe tbody tr th:only-of-type {\n",
       "        vertical-align: middle;\n",
       "    }\n",
       "\n",
       "    .dataframe tbody tr th {\n",
       "        vertical-align: top;\n",
       "    }\n",
       "\n",
       "    .dataframe thead th {\n",
       "        text-align: right;\n",
       "    }\n",
       "</style>\n",
       "<table border=\"1\" class=\"dataframe\">\n",
       "  <thead>\n",
       "    <tr style=\"text-align: right;\">\n",
       "      <th></th>\n",
       "      <th>Streams</th>\n",
       "      <th>Duration_Sec</th>\n",
       "      <th>Songwriter_Listed</th>\n",
       "    </tr>\n",
       "  </thead>\n",
       "  <tbody>\n",
       "    <tr>\n",
       "      <th>count</th>\n",
       "      <td>1.000000e+05</td>\n",
       "      <td>100000.000000</td>\n",
       "      <td>100000.000000</td>\n",
       "    </tr>\n",
       "    <tr>\n",
       "      <th>mean</th>\n",
       "      <td>5.626550e+04</td>\n",
       "      <td>1016.893690</td>\n",
       "      <td>0.541610</td>\n",
       "    </tr>\n",
       "    <tr>\n",
       "      <th>std</th>\n",
       "      <td>2.620276e+05</td>\n",
       "      <td>15565.692133</td>\n",
       "      <td>0.498268</td>\n",
       "    </tr>\n",
       "    <tr>\n",
       "      <th>min</th>\n",
       "      <td>1.000000e+00</td>\n",
       "      <td>0.000000</td>\n",
       "      <td>0.000000</td>\n",
       "    </tr>\n",
       "    <tr>\n",
       "      <th>25%</th>\n",
       "      <td>6.807000e+03</td>\n",
       "      <td>149.000000</td>\n",
       "      <td>0.000000</td>\n",
       "    </tr>\n",
       "    <tr>\n",
       "      <th>50%</th>\n",
       "      <td>1.677250e+04</td>\n",
       "      <td>190.000000</td>\n",
       "      <td>1.000000</td>\n",
       "    </tr>\n",
       "    <tr>\n",
       "      <th>75%</th>\n",
       "      <td>3.990300e+04</td>\n",
       "      <td>236.000000</td>\n",
       "      <td>1.000000</td>\n",
       "    </tr>\n",
       "    <tr>\n",
       "      <th>max</th>\n",
       "      <td>2.145617e+07</td>\n",
       "      <td>818738.000000</td>\n",
       "      <td>1.000000</td>\n",
       "    </tr>\n",
       "  </tbody>\n",
       "</table>\n",
       "</div>"
      ],
      "text/plain": [
       "            Streams   Duration_Sec  Songwriter_Listed\n",
       "count  1.000000e+05  100000.000000      100000.000000\n",
       "mean   5.626550e+04    1016.893690           0.541610\n",
       "std    2.620276e+05   15565.692133           0.498268\n",
       "min    1.000000e+00       0.000000           0.000000\n",
       "25%    6.807000e+03     149.000000           0.000000\n",
       "50%    1.677250e+04     190.000000           1.000000\n",
       "75%    3.990300e+04     236.000000           1.000000\n",
       "max    2.145617e+07  818738.000000           1.000000"
      ]
     },
     "execution_count": 18,
     "metadata": {},
     "output_type": "execute_result"
    }
   ],
   "source": [
    "music_df.describe()"
   ]
  },
  {
   "cell_type": "code",
   "execution_count": 19,
   "id": "de286d9b",
   "metadata": {},
   "outputs": [
    {
     "name": "stdout",
     "output_type": "stream",
     "text": [
      "<class 'pandas.core.frame.DataFrame'>\n",
      "RangeIndex: 100000 entries, 0 to 99999\n",
      "Data columns (total 13 columns):\n",
      " #   Column             Non-Null Count   Dtype \n",
      "---  ------             --------------   ----- \n",
      " 0   ISRC               100000 non-null  object\n",
      " 1   Country            100000 non-null  object\n",
      " 2   Registrant         100000 non-null  object\n",
      " 3   Year               100000 non-null  object\n",
      " 4   Month_Streamed     100000 non-null  object\n",
      " 5   Platform           100000 non-null  object\n",
      " 6   Streams            100000 non-null  int32 \n",
      " 7   Artist             100000 non-null  object\n",
      " 8   Label              100000 non-null  object\n",
      " 9   Recording_Title    100000 non-null  object\n",
      " 10  Release_Title      100000 non-null  object\n",
      " 11  Duration_Sec       100000 non-null  int64 \n",
      " 12  Songwriter_Listed  100000 non-null  int64 \n",
      "dtypes: int32(1), int64(2), object(10)\n",
      "memory usage: 9.5+ MB\n"
     ]
    }
   ],
   "source": [
    "music_df.info()"
   ]
  },
  {
   "cell_type": "code",
   "execution_count": 20,
   "id": "8c74885c",
   "metadata": {},
   "outputs": [
    {
     "name": "stdout",
     "output_type": "stream",
     "text": [
      "               ISRC Country Registrant  Year Month_Streamed    Platform  \\\n",
      "46643  USAT21901833      US        AT2  19.0       4/1/2021     Spotify   \n",
      "89141  TCAEW2013140      TC        AEW  20.0       4/1/2021       Apple   \n",
      "24773  USUG12003339      US        UG1  20.0       1/1/2021     Spotify   \n",
      "48604  QM4DW1706229      QM        4DW  17.0       3/1/2021       Apple   \n",
      "27720  USUM72104713      US        UM7  21.0                      Apple   \n",
      "52503  QZNJV2050806      QZ        NJV  20.0       5/1/2021     Spotify   \n",
      "55656  TCADQ1824662      TC        ADQ  18.0       5/1/2021     Spotify   \n",
      "65920  QZHN82036983      QZ        HN8  20.0       1/1/2021     Pandora   \n",
      "89142  UKP3G2001318      UK        P3G  20.0       4/1/2021       Apple   \n",
      "66711  USKBB2100008      US        KBB  21.0       4/1/2021  SoundCloud   \n",
      "7949                                               3/1/2021       Apple   \n",
      "70356  CAWHO2028607      CA        WHO  20.0       1/1/2021       Apple   \n",
      "69799  USCGJ1409314      US        CGJ  14.0       3/1/2021       Apple   \n",
      "81325  USCJY2012620      US        CJY  20.0       3/1/2021       Apple   \n",
      "46644  USDXS1800064      US        DXS  18.0       4/1/2021       Apple   \n",
      "78396  USUYG1132974      US        UYG  11.0       5/1/2021     Spotify   \n",
      "7950   TCAEE1908706      TC        AEE  19.0       3/1/2021     Spotify   \n",
      "52497  US4KC1332702      US        4KC  13.0                      Apple   \n",
      "72729  QZFZ31912132      QZ        FZ3  19.0       4/1/2021     Spotify   \n",
      "35910  USZHR1500004      US        ZHR  15.0       1/1/2021     Pandora   \n",
      "\n",
      "        Streams                                    Artist  \\\n",
      "46643  21456166                              Doja Cat,SZA   \n",
      "89141  17259260                                  Rod Wave   \n",
      "24773  17109896                            Olivia Rodrigo   \n",
      "48604  16216932                                     Drake   \n",
      "27720  15747471                                 DJ Khaled   \n",
      "52503  14847867                  J. Cole,21 Savage,Morray   \n",
      "55656  14265940                Trippie Redd,Playboi Carti   \n",
      "65920  12413368                          2Pac|The Outlawz   \n",
      "89142   9131964                                  Rod Wave   \n",
      "66711   9072859                                    Polo G   \n",
      "7949    8789577                              Pooh Shiesty   \n",
      "70356   8747347                                  Lil Durk   \n",
      "69799   8667375                                  Lil Baby   \n",
      "81325   8455388                                  Rod Wave   \n",
      "46644   8363904                                  Doja Cat   \n",
      "78396   8233820  Young Stoner Life,Young Thug,Gunna,Drake   \n",
      "7950    8068588                     Pooh Shiesty,Lil Durk   \n",
      "52497   7926556                Morray, J. Cole, 21 Savage   \n",
      "72729   7757747              Lil Tjay,Offset,Moneybagg Yo   \n",
      "35910   7719570                      Florida Georgia Line   \n",
      "\n",
      "                                                   Label  \\\n",
      "46643                       Kemosabe Records/RCA Records   \n",
      "89141                                      Alamo Records   \n",
      "24773                                  Olivia Rodrigo PS   \n",
      "48604                                                OVO   \n",
      "27720                                   Epic/We The Best   \n",
      "52503  Dreamville, Inc., Under exclusive license to R...   \n",
      "55656                 1400 Entertainment  / 10K Projects   \n",
      "65920                                         eOne Music   \n",
      "89142                                      Alamo Records   \n",
      "66711                                           Columbia   \n",
      "7949                                    Atlantic Records   \n",
      "70356                             Alamo (Geffen Records)   \n",
      "69799               Quality Control Music/Motown Records   \n",
      "81325                                      Alamo Records   \n",
      "46644                       Kemosabe Records/RCA Records   \n",
      "78396                                  300 Entertainment   \n",
      "7950                                    Atlantic Records   \n",
      "52497  Dreamville, Inc., Under exclusive license to R...   \n",
      "72729                                           Columbia   \n",
      "35910                       Big Machine Label Group, LLC   \n",
      "\n",
      "                                      Recording_Title  \\\n",
      "46643                        Kiss Me More (feat. SZA)   \n",
      "89141                                       Tombstone   \n",
      "24773                                 drivers license   \n",
      "48604        Lemon Pepper Freestyle (feat. Rick Ross)   \n",
      "27720  EVERY CHANCE I GET (feat. Lil Baby & Lil Durk)   \n",
      "52503         m y . l i f e (with 21 Savage & Morray)   \n",
      "55656             Miss The Rage (feat. Playboi Carti)   \n",
      "65920          Picture Me Rollin' (feat. The Outlawz)   \n",
      "89142                                       Tombstone   \n",
      "66711                                Polo G - RAPSTAR   \n",
      "7949                   Back In Blood (Feat. Lil Durk)   \n",
      "70356                                         Refugee   \n",
      "69799                 Real As It Gets (feat. EST Gee)   \n",
      "81325                                   Street Runner   \n",
      "46644                        Kiss Me More (feat. SZA)   \n",
      "78396                             Solid (feat. Drake)   \n",
      "7950                   Back In Blood (Feat. Lil Durk)   \n",
      "52497                                   m y . l i f e   \n",
      "72729         Run It Up (feat. Offset & Moneybagg Yo)   \n",
      "35910                                        H.O.L.Y.   \n",
      "\n",
      "                                  Release_Title  Duration_Sec  \\\n",
      "46643                  Kiss Me More (feat. SZA)           209   \n",
      "89141                                   SoulFly           160   \n",
      "24773                           drivers license           243   \n",
      "48604                             Scary Hours 2           383   \n",
      "27720                             KHALED KHALED           237   \n",
      "52503                            The Off-Season           219   \n",
      "55656       Miss The Rage (feat. Playboi Carti)           237   \n",
      "65920                       Dust storm in Vegas           310   \n",
      "89142                                   SoulFly           160   \n",
      "66711                          Polo G - RAPSTAR           165   \n",
      "7949    Back in Blood (feat. Lil Durk) - Single           184   \n",
      "70356                                 The Voice           117   \n",
      "69799  Real As It Gets (feat. EST Gee) - Single           193   \n",
      "81325                                   SoulFly           252   \n",
      "46644         Kiss Me More (feat. SZA) - Single           209   \n",
      "78396                          Slime Language 2           216   \n",
      "7950             Back In Blood (Feat. Lil Durk)           185   \n",
      "52497                            The Off-Season           219   \n",
      "72729                            Destined 2 Win           233   \n",
      "35910                          Single::H.O.L.Y.           194   \n",
      "\n",
      "       Songwriter_Listed  \n",
      "46643                  1  \n",
      "89141                  1  \n",
      "24773                  1  \n",
      "48604                  1  \n",
      "27720                  1  \n",
      "52503                  1  \n",
      "55656                  1  \n",
      "65920                  0  \n",
      "89142                  1  \n",
      "66711                  0  \n",
      "7949                   1  \n",
      "70356                  1  \n",
      "69799                  1  \n",
      "81325                  1  \n",
      "46644                  1  \n",
      "78396                  0  \n",
      "7950                   1  \n",
      "52497                  1  \n",
      "72729                  1  \n",
      "35910                  0  \n"
     ]
    }
   ],
   "source": [
    "print(music_df.nlargest(n=20, columns=['Streams']))"
   ]
  },
  {
   "cell_type": "code",
   "execution_count": 21,
   "id": "a67158eb",
   "metadata": {},
   "outputs": [
    {
     "data": {
      "text/plain": [
       "Platform\n",
       "                      4.703908e+07\n",
       "Amazon                1.511998e+08\n",
       "Anghami               3.468200e+04\n",
       "Apple                 1.606454e+09\n",
       "AudioMack             1.199156e+07\n",
       "Classical Archives    2.000000e+01\n",
       "Deezer                8.783000e+04\n",
       "Fan Label             9.100000e+01\n",
       "GTL                   1.280764e+06\n",
       "LiveXLive             1.013070e+05\n",
       "Melodyv               5.384657e+06\n",
       "Midwest Tape          8.570800e+04\n",
       "MixCloud              2.661000e+03\n",
       "MonkingMe             3.549000e+03\n",
       "NugsNet               1.107090e+05\n",
       "Pacemaker             1.707000e+03\n",
       "Pandora               8.742366e+08\n",
       "PowerMusic            3.154000e+03\n",
       "Qoboz                 6.621000e+03\n",
       "Recisio               2.900000e+01\n",
       "Smithsonian           2.080000e+02\n",
       "Sonos                 3.140200e+04\n",
       "SoundCloud            1.668138e+08\n",
       "Spotify               2.552564e+09\n",
       "Tidal                 4.879313e+07\n",
       "Trebel                1.493470e+05\n",
       "Ultimate Guitar       3.090000e+02\n",
       "Wolfgangs             9.650000e+02\n",
       "YouTube               1.580311e+08\n",
       "iHeart Radio          2.141959e+06\n",
       "Name: Streams, dtype: float64"
      ]
     },
     "execution_count": 21,
     "metadata": {},
     "output_type": "execute_result"
    }
   ],
   "source": [
    "music_df.groupby('Platform')['Streams'].sum()"
   ]
  },
  {
   "cell_type": "markdown",
   "id": "65b68c06",
   "metadata": {},
   "source": [
    "dataframe1 = pd.DataFrame(data={\"column1\": [1, 2, 3, 4, 5]})\n",
    "dataframe2 = pd.DataFrame(data={\"column1\": [1, 2]})\n",
    "\n",
    "common = dataframe1.merge(dataframe2, on=[\"column1\"])\n",
    "result = dataframe1[~dataframe1.column1.isin(common.column1)]"
   ]
  },
  {
   "cell_type": "code",
   "execution_count": 23,
   "id": "db7c269a",
   "metadata": {},
   "outputs": [],
   "source": [
    "indie_check1 = indie.merge(not_indie, on=['Artist'])"
   ]
  },
  {
   "cell_type": "code",
   "execution_count": 25,
   "id": "b1e767da",
   "metadata": {},
   "outputs": [
    {
     "ename": "NameError",
     "evalue": "name 'indiecheck1' is not defined",
     "output_type": "error",
     "traceback": [
      "\u001b[1;31m---------------------------------------------------------------------------\u001b[0m",
      "\u001b[1;31mNameError\u001b[0m                                 Traceback (most recent call last)",
      "\u001b[1;32m~\\AppData\\Local\\Temp/ipykernel_9744/1544930314.py\u001b[0m in \u001b[0;36m<module>\u001b[1;34m\u001b[0m\n\u001b[1;32m----> 1\u001b[1;33m \u001b[0mindie_check2\u001b[0m \u001b[1;33m=\u001b[0m \u001b[0mindie\u001b[0m\u001b[1;33m[\u001b[0m\u001b[0mindie\u001b[0m\u001b[1;33m[\u001b[0m\u001b[1;34m'Artist'\u001b[0m\u001b[1;33m]\u001b[0m\u001b[1;33m.\u001b[0m\u001b[0misin\u001b[0m\u001b[1;33m(\u001b[0m\u001b[0mindiecheck1\u001b[0m\u001b[1;33m[\u001b[0m\u001b[1;34m'Artist'\u001b[0m\u001b[1;33m]\u001b[0m\u001b[1;33m)\u001b[0m\u001b[1;33m]\u001b[0m\u001b[1;33m\u001b[0m\u001b[1;33m\u001b[0m\u001b[0m\n\u001b[0m",
      "\u001b[1;31mNameError\u001b[0m: name 'indiecheck1' is not defined"
     ]
    }
   ],
   "source": [
    "indie_check2 = indie[indie['Artist'].isin(indiecheck1['Artist'])]"
   ]
  },
  {
   "cell_type": "code",
   "execution_count": null,
   "id": "e6095c83",
   "metadata": {},
   "outputs": [],
   "source": []
  }
 ],
 "metadata": {
  "kernelspec": {
   "display_name": "Python 3 (ipykernel)",
   "language": "python",
   "name": "python3"
  },
  "language_info": {
   "codemirror_mode": {
    "name": "ipython",
    "version": 3
   },
   "file_extension": ".py",
   "mimetype": "text/x-python",
   "name": "python",
   "nbconvert_exporter": "python",
   "pygments_lexer": "ipython3",
   "version": "3.9.7"
  }
 },
 "nbformat": 4,
 "nbformat_minor": 5
}
