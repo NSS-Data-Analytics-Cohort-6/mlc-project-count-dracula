{
 "cells": [
  {
   "cell_type": "markdown",
   "id": "fae26945",
   "metadata": {},
   "source": [
    "Our Groups Goal!\n",
    "\n",
    "Label + Data Integrity/ISRC\n",
    "\n",
    "-number of streams by label\n",
    "\n",
    "-country, year, registrant, random code\n",
    "\n",
    "-use artist, title, songwriter to identify duplicate ISRC"
   ]
  },
  {
   "cell_type": "code",
   "execution_count": 1,
   "id": "77c3fbcd",
   "metadata": {},
   "outputs": [],
   "source": [
    "import pandas as pd\n",
    "import numpy as np\n",
    "import matplotlib.pyplot as plt\n",
    "import seaborn as sns\n",
    "import json"
   ]
  },
  {
   "cell_type": "markdown",
   "id": "739295c0",
   "metadata": {},
   "source": [
    "Might as well just upload those because that what you do in python.\n",
    "Our team is  data integrity issues (isrc) / label."
   ]
  },
  {
   "cell_type": "code",
   "execution_count": 2,
   "id": "c4ff0566",
   "metadata": {
    "scrolled": true
   },
   "outputs": [],
   "source": [
    "%matplotlib inline"
   ]
  },
  {
   "cell_type": "code",
   "execution_count": 3,
   "id": "302f5465",
   "metadata": {},
   "outputs": [
    {
     "data": {
      "text/html": [
       "<div>\n",
       "<style scoped>\n",
       "    .dataframe tbody tr th:only-of-type {\n",
       "        vertical-align: middle;\n",
       "    }\n",
       "\n",
       "    .dataframe tbody tr th {\n",
       "        vertical-align: top;\n",
       "    }\n",
       "\n",
       "    .dataframe thead th {\n",
       "        text-align: right;\n",
       "    }\n",
       "</style>\n",
       "<table border=\"1\" class=\"dataframe\">\n",
       "  <thead>\n",
       "    <tr style=\"text-align: right;\">\n",
       "      <th></th>\n",
       "      <th>ISRC</th>\n",
       "      <th>Country Code</th>\n",
       "      <th>Registrant Code</th>\n",
       "      <th>Year of Reference</th>\n",
       "      <th>Usage Period</th>\n",
       "      <th>Streaming Platform (DSP)</th>\n",
       "      <th>Streams</th>\n",
       "      <th>Recording Artist</th>\n",
       "      <th>Recording Label</th>\n",
       "      <th>Recording Title</th>\n",
       "      <th>Release Title</th>\n",
       "      <th>Recording Duration (Seconds)</th>\n",
       "      <th>Songwriter's Listed (1 = \"Yes\", 0 = \"No\")</th>\n",
       "    </tr>\n",
       "  </thead>\n",
       "  <tbody>\n",
       "    <tr>\n",
       "      <th>0</th>\n",
       "      <td>USUG12101043</td>\n",
       "      <td>US</td>\n",
       "      <td>UG1</td>\n",
       "      <td>21.0</td>\n",
       "      <td>NaN</td>\n",
       "      <td>AudioMack</td>\n",
       "      <td>10,175</td>\n",
       "      <td>Future</td>\n",
       "      <td>NaN</td>\n",
       "      <td>FUTURE FT DEJ LOAF HEY THERE PROD BY DDS</td>\n",
       "      <td>#unknown#</td>\n",
       "      <td>181</td>\n",
       "      <td>0</td>\n",
       "    </tr>\n",
       "    <tr>\n",
       "      <th>1</th>\n",
       "      <td>USRC12100543</td>\n",
       "      <td>US</td>\n",
       "      <td>RC1</td>\n",
       "      <td>21.0</td>\n",
       "      <td>NaN</td>\n",
       "      <td>SoundCloud</td>\n",
       "      <td>8,597</td>\n",
       "      <td>LUCKY3RD</td>\n",
       "      <td>LUCKY3RD</td>\n",
       "      <td>Keep It Cool  LUCKY3RD</td>\n",
       "      <td>Keep It Cool  LUCKY3RD</td>\n",
       "      <td>133</td>\n",
       "      <td>0</td>\n",
       "    </tr>\n",
       "    <tr>\n",
       "      <th>2</th>\n",
       "      <td>USSM12102263</td>\n",
       "      <td>US</td>\n",
       "      <td>SM1</td>\n",
       "      <td>21.0</td>\n",
       "      <td>NaN</td>\n",
       "      <td>SoundCloud</td>\n",
       "      <td>261,280</td>\n",
       "      <td>LUCKY3RD</td>\n",
       "      <td>LUCKY3RD</td>\n",
       "      <td>Life Goes On  LUCKY3RD</td>\n",
       "      <td>Life Goes On  LUCKY3RD</td>\n",
       "      <td>171</td>\n",
       "      <td>0</td>\n",
       "    </tr>\n",
       "    <tr>\n",
       "      <th>3</th>\n",
       "      <td>USLD91731547</td>\n",
       "      <td>US</td>\n",
       "      <td>LD9</td>\n",
       "      <td>17.0</td>\n",
       "      <td>2/1/2021</td>\n",
       "      <td>Trebel</td>\n",
       "      <td>5</td>\n",
       "      <td>Bachata &amp; Merengue Mix</td>\n",
       "      <td>Orchard</td>\n",
       "      <td>No dudes de mi- Merengue &amp; Bachata Mix</td>\n",
       "      <td>Mega Mix 2010</td>\n",
       "      <td>1250</td>\n",
       "      <td>0</td>\n",
       "    </tr>\n",
       "    <tr>\n",
       "      <th>4</th>\n",
       "      <td>USAT22007048</td>\n",
       "      <td>US</td>\n",
       "      <td>AT2</td>\n",
       "      <td>20.0</td>\n",
       "      <td>NaN</td>\n",
       "      <td>AudioMack</td>\n",
       "      <td>62,105</td>\n",
       "      <td>Foolio</td>\n",
       "      <td>NaN</td>\n",
       "      <td>WHEN I SEE YOU REMIX</td>\n",
       "      <td>#unknown#</td>\n",
       "      <td>187</td>\n",
       "      <td>0</td>\n",
       "    </tr>\n",
       "  </tbody>\n",
       "</table>\n",
       "</div>"
      ],
      "text/plain": [
       "           ISRC Country Code Registrant Code  Year of Reference Usage Period  \\\n",
       "0  USUG12101043           US             UG1               21.0          NaN   \n",
       "1  USRC12100543           US             RC1               21.0          NaN   \n",
       "2  USSM12102263           US             SM1               21.0          NaN   \n",
       "3  USLD91731547           US             LD9               17.0     2/1/2021   \n",
       "4  USAT22007048           US             AT2               20.0          NaN   \n",
       "\n",
       "  Streaming Platform (DSP)    Streams        Recording Artist Recording Label  \\\n",
       "0                AudioMack    10,175                   Future             NaN   \n",
       "1               SoundCloud     8,597                 LUCKY3RD        LUCKY3RD   \n",
       "2               SoundCloud   261,280                 LUCKY3RD        LUCKY3RD   \n",
       "3                   Trebel         5   Bachata & Merengue Mix         Orchard   \n",
       "4                AudioMack    62,105                   Foolio             NaN   \n",
       "\n",
       "                             Recording Title            Release Title  \\\n",
       "0   FUTURE FT DEJ LOAF HEY THERE PROD BY DDS                #unknown#   \n",
       "1                     Keep It Cool  LUCKY3RD   Keep It Cool  LUCKY3RD   \n",
       "2                     Life Goes On  LUCKY3RD   Life Goes On  LUCKY3RD   \n",
       "3     No dudes de mi- Merengue & Bachata Mix            Mega Mix 2010   \n",
       "4                       WHEN I SEE YOU REMIX                #unknown#   \n",
       "\n",
       "   Recording Duration (Seconds)  Songwriter's Listed (1 = \"Yes\", 0 = \"No\")  \n",
       "0                           181                                          0  \n",
       "1                           133                                          0  \n",
       "2                           171                                          0  \n",
       "3                          1250                                          0  \n",
       "4                           187                                          0  "
      ]
     },
     "execution_count": 3,
     "metadata": {},
     "output_type": "execute_result"
    }
   ],
   "source": [
    "music_df = pd.read_csv(\"../data/NSS-Sample.csv\")\n",
    "music_df = music_df.rename(columns={\"If \":\"ISRC\"})\n",
    "music_df.head()"
   ]
  },
  {
   "cell_type": "code",
   "execution_count": 4,
   "id": "642997e1",
   "metadata": {
    "scrolled": true
   },
   "outputs": [
    {
     "data": {
      "text/plain": [
       "ISRC                                         1760\n",
       "Country Code                                 1697\n",
       "Registrant Code                              1697\n",
       "Year of Reference                            1761\n",
       "Usage Period                                 8102\n",
       "Streaming Platform (DSP)                     3999\n",
       "Streams                                         0\n",
       "Recording Artist                                0\n",
       "Recording Label                              1008\n",
       "Recording Title                                 0\n",
       "Release Title                                  69\n",
       "Recording Duration (Seconds)                    0\n",
       "Songwriter's Listed (1 = \"Yes\", 0 = \"No\")       0\n",
       "dtype: int64"
      ]
     },
     "execution_count": 4,
     "metadata": {},
     "output_type": "execute_result"
    }
   ],
   "source": [
    "music_df.isnull().sum()"
   ]
  },
  {
   "cell_type": "code",
   "execution_count": 5,
   "id": "915bdf54",
   "metadata": {},
   "outputs": [],
   "source": [
    "music_df[\"ISRC\"].fillna(\"\", inplace = True)\n",
    "music_df[\"Country Code\"].fillna(\"\", inplace = True)\n",
    "music_df[\"Registrant Code\"].fillna(\"\", inplace = True)\n",
    "music_df[\"Year of Reference\"].fillna(\"\", inplace = True)\n",
    "music_df[\"Usage Period\"].fillna(\"\", inplace = True)\n",
    "music_df[\"Streaming Platform (DSP)\"].fillna(\"\", inplace = True)\n",
    "music_df[\"Streams\"].fillna(\"\", inplace = True)\n",
    "music_df[\"Recording Artist\"].fillna(\"\", inplace = True)\n",
    "music_df[\"Recording Label\"].fillna(\"\", inplace = True)\n",
    "music_df[\"Recording Title\"].fillna(\"\", inplace = True)\n",
    "music_df[\"Release Title\"].fillna(\"\", inplace = True)\n",
    "music_df[\"Recording Duration (Seconds)\"].fillna(\"\", inplace = True)"
   ]
  },
  {
   "cell_type": "code",
   "execution_count": 6,
   "id": "6aa262fb",
   "metadata": {},
   "outputs": [
    {
     "data": {
      "text/plain": [
       "ISRC                                         0\n",
       "Country Code                                 0\n",
       "Registrant Code                              0\n",
       "Year of Reference                            0\n",
       "Usage Period                                 0\n",
       "Streaming Platform (DSP)                     0\n",
       "Streams                                      0\n",
       "Recording Artist                             0\n",
       "Recording Label                              0\n",
       "Recording Title                              0\n",
       "Release Title                                0\n",
       "Recording Duration (Seconds)                 0\n",
       "Songwriter's Listed (1 = \"Yes\", 0 = \"No\")    0\n",
       "dtype: int64"
      ]
     },
     "execution_count": 6,
     "metadata": {},
     "output_type": "execute_result"
    }
   ],
   "source": [
    "music_df.isnull().sum()"
   ]
  },
  {
   "cell_type": "code",
   "execution_count": 7,
   "id": "9b192d6d",
   "metadata": {},
   "outputs": [
    {
     "name": "stdout",
     "output_type": "stream",
     "text": [
      "<class 'pandas.core.frame.DataFrame'>\n",
      "RangeIndex: 100000 entries, 0 to 99999\n",
      "Data columns (total 13 columns):\n",
      " #   Column             Non-Null Count   Dtype \n",
      "---  ------             --------------   ----- \n",
      " 0   ISRC               100000 non-null  object\n",
      " 1   Country            100000 non-null  object\n",
      " 2   Registrant         100000 non-null  object\n",
      " 3   Year               100000 non-null  object\n",
      " 4   Month_Streamed     100000 non-null  object\n",
      " 5   Platform           100000 non-null  object\n",
      " 6   Streams            100000 non-null  object\n",
      " 7   Artist             100000 non-null  object\n",
      " 8   Label              100000 non-null  object\n",
      " 9   Recording_Title    100000 non-null  object\n",
      " 10  Release_Title      100000 non-null  object\n",
      " 11  Duration_Sec       100000 non-null  int64 \n",
      " 12  Songwriter_Listed  100000 non-null  int64 \n",
      "dtypes: int64(2), object(11)\n",
      "memory usage: 9.9+ MB\n"
     ]
    }
   ],
   "source": [
    "music_df=music_df.set_axis([\"ISRC\",\"Country\",\"Registrant\",\"Year\",\"Month_Streamed\",\n",
    "                            \"Platform\",\"Streams\",\"Artist\",\"Label\",\"Recording_Title\",\"Release_Title\",\n",
    "                            \"Duration_Sec\",\"Songwriter_Listed\"], axis=1)\n",
    "music_df.info()"
   ]
  },
  {
   "cell_type": "markdown",
   "id": "a4348cdf",
   "metadata": {},
   "source": [
    "Following code is getting rid of commas in the streams column to make it an integer"
   ]
  },
  {
   "cell_type": "code",
   "execution_count": 8,
   "id": "b2395941",
   "metadata": {},
   "outputs": [],
   "source": [
    "music_df['Streams'] = music_df['Streams'].astype(str)\n",
    "music_df['Streams']=music_df['Streams'].str.replace(',','')\n",
    "music_df['Streams'] = music_df['Streams'].astype(int)"
   ]
  },
  {
   "cell_type": "markdown",
   "id": "541facf3",
   "metadata": {},
   "source": [
    "So we're having an extrordinarily difficult time turning the years column into an integer. Why is this an impossible feat? Why does it refuse to turn into a string even though there are no nulls? Why does it refuse to turn into a float when there are no nulls???"
   ]
  },
  {
   "cell_type": "code",
   "execution_count": 9,
   "id": "420566c4",
   "metadata": {},
   "outputs": [],
   "source": [
    "indie = music_df[music_df['Artist'] == music_df['Label']]"
   ]
  },
  {
   "cell_type": "code",
   "execution_count": 10,
   "id": "94e53581",
   "metadata": {},
   "outputs": [
    {
     "data": {
      "text/html": [
       "<div>\n",
       "<style scoped>\n",
       "    .dataframe tbody tr th:only-of-type {\n",
       "        vertical-align: middle;\n",
       "    }\n",
       "\n",
       "    .dataframe tbody tr th {\n",
       "        vertical-align: top;\n",
       "    }\n",
       "\n",
       "    .dataframe thead th {\n",
       "        text-align: right;\n",
       "    }\n",
       "</style>\n",
       "<table border=\"1\" class=\"dataframe\">\n",
       "  <thead>\n",
       "    <tr style=\"text-align: right;\">\n",
       "      <th></th>\n",
       "      <th>Streams</th>\n",
       "      <th>Duration_Sec</th>\n",
       "      <th>Songwriter_Listed</th>\n",
       "    </tr>\n",
       "  </thead>\n",
       "  <tbody>\n",
       "    <tr>\n",
       "      <th>count</th>\n",
       "      <td>1.000000e+05</td>\n",
       "      <td>100000.000000</td>\n",
       "      <td>100000.000000</td>\n",
       "    </tr>\n",
       "    <tr>\n",
       "      <th>mean</th>\n",
       "      <td>5.626550e+04</td>\n",
       "      <td>1016.893690</td>\n",
       "      <td>0.541610</td>\n",
       "    </tr>\n",
       "    <tr>\n",
       "      <th>std</th>\n",
       "      <td>2.620276e+05</td>\n",
       "      <td>15565.692133</td>\n",
       "      <td>0.498268</td>\n",
       "    </tr>\n",
       "    <tr>\n",
       "      <th>min</th>\n",
       "      <td>1.000000e+00</td>\n",
       "      <td>0.000000</td>\n",
       "      <td>0.000000</td>\n",
       "    </tr>\n",
       "    <tr>\n",
       "      <th>25%</th>\n",
       "      <td>6.807000e+03</td>\n",
       "      <td>149.000000</td>\n",
       "      <td>0.000000</td>\n",
       "    </tr>\n",
       "    <tr>\n",
       "      <th>50%</th>\n",
       "      <td>1.677250e+04</td>\n",
       "      <td>190.000000</td>\n",
       "      <td>1.000000</td>\n",
       "    </tr>\n",
       "    <tr>\n",
       "      <th>75%</th>\n",
       "      <td>3.990300e+04</td>\n",
       "      <td>236.000000</td>\n",
       "      <td>1.000000</td>\n",
       "    </tr>\n",
       "    <tr>\n",
       "      <th>max</th>\n",
       "      <td>2.145617e+07</td>\n",
       "      <td>818738.000000</td>\n",
       "      <td>1.000000</td>\n",
       "    </tr>\n",
       "  </tbody>\n",
       "</table>\n",
       "</div>"
      ],
      "text/plain": [
       "            Streams   Duration_Sec  Songwriter_Listed\n",
       "count  1.000000e+05  100000.000000      100000.000000\n",
       "mean   5.626550e+04    1016.893690           0.541610\n",
       "std    2.620276e+05   15565.692133           0.498268\n",
       "min    1.000000e+00       0.000000           0.000000\n",
       "25%    6.807000e+03     149.000000           0.000000\n",
       "50%    1.677250e+04     190.000000           1.000000\n",
       "75%    3.990300e+04     236.000000           1.000000\n",
       "max    2.145617e+07  818738.000000           1.000000"
      ]
     },
     "execution_count": 10,
     "metadata": {},
     "output_type": "execute_result"
    }
   ],
   "source": [
    "music_df.describe()"
   ]
  },
  {
   "cell_type": "markdown",
   "id": "81d52f31",
   "metadata": {},
   "source": [
    "In the following code, we're trying to create a chart that shows the streams by platform. Once we do that, we can also start showing the streams by label."
   ]
  },
  {
   "cell_type": "code",
   "execution_count": 11,
   "id": "a67158eb",
   "metadata": {
    "scrolled": false
   },
   "outputs": [
    {
     "name": "stdout",
     "output_type": "stream",
     "text": [
      "<class 'pandas.core.frame.DataFrame'>\n",
      "RangeIndex: 30 entries, 0 to 29\n",
      "Data columns (total 2 columns):\n",
      " #   Column    Non-Null Count  Dtype  \n",
      "---  ------    --------------  -----  \n",
      " 0   Platform  30 non-null     object \n",
      " 1   Streams   30 non-null     float64\n",
      "dtypes: float64(1), object(1)\n",
      "memory usage: 608.0+ bytes\n"
     ]
    }
   ],
   "source": [
    "platform_sums = music_df.groupby(['Platform'], as_index=False).agg({'Streams':['sum']})\n",
    "platform_sums.columns = ['Platform','Streams']\n",
    "platform_sums.info()"
   ]
  },
  {
   "cell_type": "code",
   "execution_count": 13,
   "id": "0734db5f",
   "metadata": {},
   "outputs": [
    {
     "data": {
      "text/html": [
       "<div>\n",
       "<style scoped>\n",
       "    .dataframe tbody tr th:only-of-type {\n",
       "        vertical-align: middle;\n",
       "    }\n",
       "\n",
       "    .dataframe tbody tr th {\n",
       "        vertical-align: top;\n",
       "    }\n",
       "\n",
       "    .dataframe thead th {\n",
       "        text-align: right;\n",
       "    }\n",
       "</style>\n",
       "<table border=\"1\" class=\"dataframe\">\n",
       "  <thead>\n",
       "    <tr style=\"text-align: right;\">\n",
       "      <th></th>\n",
       "      <th>Platform</th>\n",
       "      <th>Streams</th>\n",
       "    </tr>\n",
       "  </thead>\n",
       "  <tbody>\n",
       "    <tr>\n",
       "      <th>0</th>\n",
       "      <td></td>\n",
       "      <td>4.703908e+07</td>\n",
       "    </tr>\n",
       "    <tr>\n",
       "      <th>1</th>\n",
       "      <td>Amazon</td>\n",
       "      <td>1.511998e+08</td>\n",
       "    </tr>\n",
       "    <tr>\n",
       "      <th>2</th>\n",
       "      <td>Anghami</td>\n",
       "      <td>3.468200e+04</td>\n",
       "    </tr>\n",
       "    <tr>\n",
       "      <th>3</th>\n",
       "      <td>Apple</td>\n",
       "      <td>1.606454e+09</td>\n",
       "    </tr>\n",
       "    <tr>\n",
       "      <th>4</th>\n",
       "      <td>AudioMack</td>\n",
       "      <td>1.199156e+07</td>\n",
       "    </tr>\n",
       "  </tbody>\n",
       "</table>\n",
       "</div>"
      ],
      "text/plain": [
       "    Platform       Streams\n",
       "0             4.703908e+07\n",
       "1     Amazon  1.511998e+08\n",
       "2    Anghami  3.468200e+04\n",
       "3      Apple  1.606454e+09\n",
       "4  AudioMack  1.199156e+07"
      ]
     },
     "execution_count": 13,
     "metadata": {},
     "output_type": "execute_result"
    }
   ],
   "source": [
    "platform_sums.head()"
   ]
  },
  {
   "cell_type": "code",
   "execution_count": 16,
   "id": "9e6a3573",
   "metadata": {},
   "outputs": [
    {
     "name": "stdout",
     "output_type": "stream",
     "text": [
      "<class 'pandas.core.frame.DataFrame'>\n",
      "RangeIndex: 11779 entries, 0 to 11778\n",
      "Data columns (total 2 columns):\n",
      " #   Column   Non-Null Count  Dtype \n",
      "---  ------   --------------  ----- \n",
      " 0   Label    11779 non-null  object\n",
      " 1   Streams  11779 non-null  int32 \n",
      "dtypes: int32(1), object(1)\n",
      "memory usage: 138.2+ KB\n"
     ]
    }
   ],
   "source": [
    "label_sums = music_df.groupby(['Label'], as_index=False).agg({'Streams':['sum']})\n",
    "label_sums.columns = ['Label','Streams']\n",
    "label_sums.info()"
   ]
  },
  {
   "cell_type": "markdown",
   "id": "e7ade623",
   "metadata": {},
   "source": [
    "Using the code in this markdown isn't working because we're trying to make a grid with a series.\n",
    "\n",
    "grid = sns.FacetGrid(music_df, hue = \"Platform\")\n",
    "grid.map(sns.barplot, music_df['Label'], music_df.groupby('Platform')['Streams'].sum())\n",
    "plt.xlim(reversed(plt.xlim()))\n",
    "grid.add_legend()"
   ]
  },
  {
   "cell_type": "code",
   "execution_count": 21,
   "id": "e9ba358b",
   "metadata": {
    "scrolled": false
   },
   "outputs": [
    {
     "name": "stderr",
     "output_type": "stream",
     "text": [
      "C:\\Users\\phili\\anaconda3\\lib\\site-packages\\seaborn\\_decorators.py:36: FutureWarning: Pass the following variables as keyword args: x, y. From version 0.12, the only valid positional argument will be `data`, and passing other arguments without an explicit keyword will result in an error or misinterpretation.\n",
      "  warnings.warn(\n"
     ]
    },
    {
     "data": {
      "text/plain": [
       "<AxesSubplot:xlabel='Platform', ylabel='Streams'>"
      ]
     },
     "execution_count": 21,
     "metadata": {},
     "output_type": "execute_result"
    },
    {
     "data": {
      "image/png": "[encoded data removed]",
      "text/plain": [
       "<Figure size 432x288 with 1 Axes>"
      ]
     },
     "metadata": {
      "needs_background": "light"
     },
     "output_type": "display_data"
    }
   ],
   "source": [
    "sns.barplot(platform_sums['Platform'],platform_sums['Streams'])\n",
    "#wow ok so this gives us a chart i suppose but not QUITE what we're looking for."
   ]
  },
  {
   "cell_type": "code",
   "execution_count": 23,
   "id": "551c7b58",
   "metadata": {
    "scrolled": false
   },
   "outputs": [
    {
     "name": "stdout",
     "output_type": "stream",
     "text": [
      "              Platform       Streams\n",
      "0                       4.703908e+07\n",
      "1               Amazon  1.511998e+08\n",
      "2              Anghami  3.468200e+04\n",
      "3                Apple  1.606454e+09\n",
      "4            AudioMack  1.199156e+07\n",
      "5   Classical Archives  2.000000e+01\n",
      "6               Deezer  8.783000e+04\n",
      "7            Fan Label  9.100000e+01\n",
      "8                  GTL  1.280764e+06\n",
      "9            LiveXLive  1.013070e+05\n",
      "10             Melodyv  5.384657e+06\n",
      "11        Midwest Tape  8.570800e+04\n",
      "12            MixCloud  2.661000e+03\n",
      "13           MonkingMe  3.549000e+03\n",
      "14             NugsNet  1.107090e+05\n",
      "15           Pacemaker  1.707000e+03\n",
      "16             Pandora  8.742366e+08\n",
      "17          PowerMusic  3.154000e+03\n",
      "18               Qoboz  6.621000e+03\n",
      "19             Recisio  2.900000e+01\n",
      "20         Smithsonian  2.080000e+02\n",
      "21               Sonos  3.140200e+04\n",
      "22          SoundCloud  1.668138e+08\n",
      "23             Spotify  2.552564e+09\n",
      "24               Tidal  4.879313e+07\n",
      "25              Trebel  1.493470e+05\n",
      "26     Ultimate Guitar  3.090000e+02\n",
      "27           Wolfgangs  9.650000e+02\n",
      "28             YouTube  1.580311e+08\n",
      "29        iHeart Radio  2.141959e+06\n"
     ]
    }
   ],
   "source": [
    "print(platform_sums)"
   ]
  },
  {
   "cell_type": "markdown",
   "id": "a0230f77",
   "metadata": {},
   "source": [
    "dataframe1 = pd.DataFrame(data={\"column1\": [1, 2, 3, 4, 5]})\n",
    "dataframe2 = pd.DataFrame(data={\"column1\": [1, 2]})\n",
    "\n",
    "common = dataframe1.merge(dataframe2, on=[\"column1\"])\n",
    "result = dataframe1[~dataframe1.column1.isin(common.column1)]"
   ]
  },
  {
   "cell_type": "code",
   "execution_count": null,
   "id": "a8bd87a9",
   "metadata": {},
   "outputs": [],
   "source": []
  }
 ],
 "metadata": {
  "kernelspec": {
   "display_name": "Python 3 (ipykernel)",
   "language": "python",
   "name": "python3"
  },
  "language_info": {
   "codemirror_mode": {
    "name": "ipython",
    "version": 3
   },
   "file_extension": ".py",
   "mimetype": "text/x-python",
   "name": "python",
   "nbconvert_exporter": "python",
   "pygments_lexer": "ipython3",
   "version": "3.9.7"
  }
 },
 "nbformat": 4,
 "nbformat_minor": 5
}
