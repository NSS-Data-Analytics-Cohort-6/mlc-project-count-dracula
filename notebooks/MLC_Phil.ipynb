{
 "cells": [
  {
   "cell_type": "markdown",
   "id": "d9571806",
   "metadata": {},
   "source": [
    "Our Groups Goal!\n",
    "\n",
    "Label + Data Integrity/ISRC\n",
    "\n",
    "-number of streams by label\n",
    "\n",
    "-country, year, registrant, random code\n",
    "\n",
    "-use artist, title, songwriter to identify duplicate ISRC"
   ]
  },
  {
   "cell_type": "code",
   "execution_count": 1,
   "id": "77c3fbcd",
   "metadata": {},
   "outputs": [],
   "source": [
    "import pandas as pd\n",
    "import numpy as np\n",
    "import matplotlib.pyplot as plt\n",
    "import seaborn as sns\n",
    "import json"
   ]
  },
  {
   "cell_type": "markdown",
   "id": "739295c0",
   "metadata": {},
   "source": [
    "Might as well just upload those because that what you do in python.\n",
    "Our team is  data integrity issues (isrc) / label."
   ]
  },
  {
   "cell_type": "code",
   "execution_count": 2,
   "id": "c4ff0566",
   "metadata": {
    "scrolled": true
   },
   "outputs": [],
   "source": [
    "%matplotlib inline"
   ]
  },
  {
   "cell_type": "code",
   "execution_count": 3,
   "id": "302f5465",
   "metadata": {},
   "outputs": [
    {
     "data": {
      "text/html": [
       "<div>\n",
       "<style scoped>\n",
       "    .dataframe tbody tr th:only-of-type {\n",
       "        vertical-align: middle;\n",
       "    }\n",
       "\n",
       "    .dataframe tbody tr th {\n",
       "        vertical-align: top;\n",
       "    }\n",
       "\n",
       "    .dataframe thead th {\n",
       "        text-align: right;\n",
       "    }\n",
       "</style>\n",
       "<table border=\"1\" class=\"dataframe\">\n",
       "  <thead>\n",
       "    <tr style=\"text-align: right;\">\n",
       "      <th></th>\n",
       "      <th>ISRC</th>\n",
       "      <th>Country Code</th>\n",
       "      <th>Registrant Code</th>\n",
       "      <th>Year of Reference</th>\n",
       "      <th>Usage Period</th>\n",
       "      <th>Streaming Platform (DSP)</th>\n",
       "      <th>Streams</th>\n",
       "      <th>Recording Artist</th>\n",
       "      <th>Recording Label</th>\n",
       "      <th>Recording Title</th>\n",
       "      <th>Release Title</th>\n",
       "      <th>Recording Duration (Seconds)</th>\n",
       "      <th>Songwriter's Listed (1 = \"Yes\", 0 = \"No\")</th>\n",
       "    </tr>\n",
       "  </thead>\n",
       "  <tbody>\n",
       "    <tr>\n",
       "      <th>0</th>\n",
       "      <td>USUG12101043</td>\n",
       "      <td>US</td>\n",
       "      <td>UG1</td>\n",
       "      <td>21.0</td>\n",
       "      <td>NaN</td>\n",
       "      <td>AudioMack</td>\n",
       "      <td>10,175</td>\n",
       "      <td>Future</td>\n",
       "      <td>NaN</td>\n",
       "      <td>FUTURE FT DEJ LOAF HEY THERE PROD BY DDS</td>\n",
       "      <td>#unknown#</td>\n",
       "      <td>181</td>\n",
       "      <td>0</td>\n",
       "    </tr>\n",
       "    <tr>\n",
       "      <th>1</th>\n",
       "      <td>USRC12100543</td>\n",
       "      <td>US</td>\n",
       "      <td>RC1</td>\n",
       "      <td>21.0</td>\n",
       "      <td>NaN</td>\n",
       "      <td>SoundCloud</td>\n",
       "      <td>8,597</td>\n",
       "      <td>LUCKY3RD</td>\n",
       "      <td>LUCKY3RD</td>\n",
       "      <td>Keep It Cool  LUCKY3RD</td>\n",
       "      <td>Keep It Cool  LUCKY3RD</td>\n",
       "      <td>133</td>\n",
       "      <td>0</td>\n",
       "    </tr>\n",
       "    <tr>\n",
       "      <th>2</th>\n",
       "      <td>USSM12102263</td>\n",
       "      <td>US</td>\n",
       "      <td>SM1</td>\n",
       "      <td>21.0</td>\n",
       "      <td>NaN</td>\n",
       "      <td>SoundCloud</td>\n",
       "      <td>261,280</td>\n",
       "      <td>LUCKY3RD</td>\n",
       "      <td>LUCKY3RD</td>\n",
       "      <td>Life Goes On  LUCKY3RD</td>\n",
       "      <td>Life Goes On  LUCKY3RD</td>\n",
       "      <td>171</td>\n",
       "      <td>0</td>\n",
       "    </tr>\n",
       "    <tr>\n",
       "      <th>3</th>\n",
       "      <td>USLD91731547</td>\n",
       "      <td>US</td>\n",
       "      <td>LD9</td>\n",
       "      <td>17.0</td>\n",
       "      <td>2/1/2021</td>\n",
       "      <td>Trebel</td>\n",
       "      <td>5</td>\n",
       "      <td>Bachata &amp; Merengue Mix</td>\n",
       "      <td>Orchard</td>\n",
       "      <td>No dudes de mi- Merengue &amp; Bachata Mix</td>\n",
       "      <td>Mega Mix 2010</td>\n",
       "      <td>1250</td>\n",
       "      <td>0</td>\n",
       "    </tr>\n",
       "    <tr>\n",
       "      <th>4</th>\n",
       "      <td>USAT22007048</td>\n",
       "      <td>US</td>\n",
       "      <td>AT2</td>\n",
       "      <td>20.0</td>\n",
       "      <td>NaN</td>\n",
       "      <td>AudioMack</td>\n",
       "      <td>62,105</td>\n",
       "      <td>Foolio</td>\n",
       "      <td>NaN</td>\n",
       "      <td>WHEN I SEE YOU REMIX</td>\n",
       "      <td>#unknown#</td>\n",
       "      <td>187</td>\n",
       "      <td>0</td>\n",
       "    </tr>\n",
       "  </tbody>\n",
       "</table>\n",
       "</div>"
      ],
      "text/plain": [
       "           ISRC Country Code Registrant Code  Year of Reference Usage Period  \\\n",
       "0  USUG12101043           US             UG1               21.0          NaN   \n",
       "1  USRC12100543           US             RC1               21.0          NaN   \n",
       "2  USSM12102263           US             SM1               21.0          NaN   \n",
       "3  USLD91731547           US             LD9               17.0     2/1/2021   \n",
       "4  USAT22007048           US             AT2               20.0          NaN   \n",
       "\n",
       "  Streaming Platform (DSP)    Streams        Recording Artist Recording Label  \\\n",
       "0                AudioMack    10,175                   Future             NaN   \n",
       "1               SoundCloud     8,597                 LUCKY3RD        LUCKY3RD   \n",
       "2               SoundCloud   261,280                 LUCKY3RD        LUCKY3RD   \n",
       "3                   Trebel         5   Bachata & Merengue Mix         Orchard   \n",
       "4                AudioMack    62,105                   Foolio             NaN   \n",
       "\n",
       "                             Recording Title            Release Title  \\\n",
       "0   FUTURE FT DEJ LOAF HEY THERE PROD BY DDS                #unknown#   \n",
       "1                     Keep It Cool  LUCKY3RD   Keep It Cool  LUCKY3RD   \n",
       "2                     Life Goes On  LUCKY3RD   Life Goes On  LUCKY3RD   \n",
       "3     No dudes de mi- Merengue & Bachata Mix            Mega Mix 2010   \n",
       "4                       WHEN I SEE YOU REMIX                #unknown#   \n",
       "\n",
       "   Recording Duration (Seconds)  Songwriter's Listed (1 = \"Yes\", 0 = \"No\")  \n",
       "0                           181                                          0  \n",
       "1                           133                                          0  \n",
       "2                           171                                          0  \n",
       "3                          1250                                          0  \n",
       "4                           187                                          0  "
      ]
     },
     "execution_count": 3,
     "metadata": {},
     "output_type": "execute_result"
    }
   ],
   "source": [
    "music_df = pd.read_csv(\"../data/NSS-Sample.csv\")\n",
    "music_df = music_df.rename(columns={\"If \":\"ISRC\"})\n",
    "music_df.head()"
   ]
  },
  {
   "cell_type": "code",
   "execution_count": 4,
   "id": "c33bed60",
   "metadata": {},
   "outputs": [
    {
     "name": "stdout",
     "output_type": "stream",
     "text": [
      "<class 'pandas.core.frame.DataFrame'>\n",
      "RangeIndex: 100000 entries, 0 to 99999\n",
      "Data columns (total 13 columns):\n",
      " #   Column             Non-Null Count   Dtype  \n",
      "---  ------             --------------   -----  \n",
      " 0   ISRC               98240 non-null   object \n",
      " 1   Country            98303 non-null   object \n",
      " 2   Registrant         98303 non-null   object \n",
      " 3   Year               98239 non-null   float64\n",
      " 4   Month_Streamed     91898 non-null   object \n",
      " 5   Platform           96001 non-null   object \n",
      " 6   Streams            100000 non-null  object \n",
      " 7   Artist             100000 non-null  object \n",
      " 8   Label              98992 non-null   object \n",
      " 9   Recording_Title    100000 non-null  object \n",
      " 10  Release_Title      99931 non-null   object \n",
      " 11  Duration_Sec       100000 non-null  int64  \n",
      " 12  Songwriter_Listed  100000 non-null  int64  \n",
      "dtypes: float64(1), int64(2), object(10)\n",
      "memory usage: 9.9+ MB\n"
     ]
    }
   ],
   "source": [
    "music_df=music_df.set_axis([\"ISRC\",\"Country\",\"Registrant\",\"Year\",\"Month_Streamed\",\n",
    "                            \"Platform\",\"Streams\",\"Artist\",\"Label\",\"Recording_Title\",\"Release_Title\",\n",
    "                            \"Duration_Sec\",\"Songwriter_Listed\"], axis=1)\n",
    "music_df.info()"
   ]
  },
  {
   "cell_type": "code",
   "execution_count": 5,
   "id": "cef5c6bd",
   "metadata": {},
   "outputs": [],
   "source": [
    "music_null = music_df[music_df.isna().any(axis=1)]"
   ]
  },
  {
   "cell_type": "code",
   "execution_count": 6,
   "id": "9294d792",
   "metadata": {
    "scrolled": true
   },
   "outputs": [
    {
     "name": "stdout",
     "output_type": "stream",
     "text": [
      "<class 'pandas.core.frame.DataFrame'>\n",
      "Int64Index: 10285 entries, 0 to 99837\n",
      "Data columns (total 13 columns):\n",
      " #   Column             Non-Null Count  Dtype  \n",
      "---  ------             --------------  -----  \n",
      " 0   ISRC               8525 non-null   object \n",
      " 1   Country            8588 non-null   object \n",
      " 2   Registrant         8588 non-null   object \n",
      " 3   Year               8524 non-null   float64\n",
      " 4   Month_Streamed     2183 non-null   object \n",
      " 5   Platform           6286 non-null   object \n",
      " 6   Streams            10285 non-null  object \n",
      " 7   Artist             10285 non-null  object \n",
      " 8   Label              9277 non-null   object \n",
      " 9   Recording_Title    10285 non-null  object \n",
      " 10  Release_Title      10216 non-null  object \n",
      " 11  Duration_Sec       10285 non-null  int64  \n",
      " 12  Songwriter_Listed  10285 non-null  int64  \n",
      "dtypes: float64(1), int64(2), object(10)\n",
      "memory usage: 1.1+ MB\n"
     ]
    }
   ],
   "source": [
    "music_null.info()"
   ]
  },
  {
   "cell_type": "code",
   "execution_count": 15,
   "id": "cd9b7497",
   "metadata": {},
   "outputs": [
    {
     "name": "stdout",
     "output_type": "stream",
     "text": [
      "           Platform  Artist\n",
      "0            Amazon     265\n",
      "1           Anghami       3\n",
      "2             Apple    1792\n",
      "3         AudioMack     550\n",
      "4            Deezer       5\n",
      "5               GTL      26\n",
      "6         LiveXLive      37\n",
      "7           Melodyv      15\n",
      "8      Midwest Tape      50\n",
      "9          MixCloud       4\n",
      "10        MonkingMe       1\n",
      "11          NugsNet       4\n",
      "12          Pandora     268\n",
      "13       PowerMusic       8\n",
      "14          Recisio      22\n",
      "15      Smithsonian       1\n",
      "16       SoundCloud     520\n",
      "17          Spotify     583\n",
      "18            Tidal     905\n",
      "19           Trebel      19\n",
      "20  Ultimate Guitar      19\n",
      "21        Wolfgangs       4\n",
      "22          YouTube    1132\n",
      "23     iHeart Radio      53\n",
      "              Platform  Artist\n",
      "0               Amazon   14438\n",
      "1              Anghami      46\n",
      "2                Apple   22200\n",
      "3            AudioMack     550\n",
      "4   Classical Archives       2\n",
      "5               Deezer      51\n",
      "6            Fan Label       4\n",
      "7                  GTL    1090\n",
      "8            LiveXLive     200\n",
      "9              Melodyv     829\n",
      "10        Midwest Tape     102\n",
      "11            MixCloud       4\n",
      "12           MonkingMe       1\n",
      "13             NugsNet     316\n",
      "14           Pacemaker       3\n",
      "15             Pandora   13777\n",
      "16          PowerMusic       8\n",
      "17               Qoboz     104\n",
      "18             Recisio      22\n",
      "19         Smithsonian      21\n",
      "20               Sonos      23\n",
      "21          SoundCloud    2122\n",
      "22             Spotify   32268\n",
      "23               Tidal    3521\n",
      "24              Trebel     817\n",
      "25     Ultimate Guitar      19\n",
      "26           Wolfgangs       4\n",
      "27             YouTube    2752\n",
      "28        iHeart Radio     707\n"
     ]
    }
   ],
   "source": [
    "nulls=music_null.groupby(['Platform'], as_index=False).agg({'Artist':'count'})\n",
    "nonulls = music_df.groupby(['Platform'], as_index=False).agg({'Artist':'count'})\n",
    "print(nulls)\n",
    "print(nonulls)"
   ]
  },
  {
   "cell_type": "code",
   "execution_count": 7,
   "id": "642997e1",
   "metadata": {
    "scrolled": true
   },
   "outputs": [
    {
     "data": {
      "text/plain": [
       "ISRC                 1760\n",
       "Country              1697\n",
       "Registrant           1697\n",
       "Year                 1761\n",
       "Month_Streamed       8102\n",
       "Platform             3999\n",
       "Streams                 0\n",
       "Artist                  0\n",
       "Label                1008\n",
       "Recording_Title         0\n",
       "Release_Title          69\n",
       "Duration_Sec            0\n",
       "Songwriter_Listed       0\n",
       "dtype: int64"
      ]
     },
     "execution_count": 7,
     "metadata": {},
     "output_type": "execute_result"
    }
   ],
   "source": [
    "music_df.isnull().sum()"
   ]
  },
  {
   "cell_type": "code",
   "execution_count": 11,
   "id": "915bdf54",
   "metadata": {},
   "outputs": [
    {
     "ename": "KeyError",
     "evalue": "'Country Code'",
     "output_type": "error",
     "traceback": [
      "\u001b[1;31m---------------------------------------------------------------------------\u001b[0m",
      "\u001b[1;31mKeyError\u001b[0m                                  Traceback (most recent call last)",
      "\u001b[1;32m~\\anaconda3\\lib\\site-packages\\pandas\\core\\indexes\\base.py\u001b[0m in \u001b[0;36mget_loc\u001b[1;34m(self, key, method, tolerance)\u001b[0m\n\u001b[0;32m   3360\u001b[0m             \u001b[1;32mtry\u001b[0m\u001b[1;33m:\u001b[0m\u001b[1;33m\u001b[0m\u001b[1;33m\u001b[0m\u001b[0m\n\u001b[1;32m-> 3361\u001b[1;33m                 \u001b[1;32mreturn\u001b[0m \u001b[0mself\u001b[0m\u001b[1;33m.\u001b[0m\u001b[0m_engine\u001b[0m\u001b[1;33m.\u001b[0m\u001b[0mget_loc\u001b[0m\u001b[1;33m(\u001b[0m\u001b[0mcasted_key\u001b[0m\u001b[1;33m)\u001b[0m\u001b[1;33m\u001b[0m\u001b[1;33m\u001b[0m\u001b[0m\n\u001b[0m\u001b[0;32m   3362\u001b[0m             \u001b[1;32mexcept\u001b[0m \u001b[0mKeyError\u001b[0m \u001b[1;32mas\u001b[0m \u001b[0merr\u001b[0m\u001b[1;33m:\u001b[0m\u001b[1;33m\u001b[0m\u001b[1;33m\u001b[0m\u001b[0m\n",
      "\u001b[1;32m~\\anaconda3\\lib\\site-packages\\pandas\\_libs\\index.pyx\u001b[0m in \u001b[0;36mpandas._libs.index.IndexEngine.get_loc\u001b[1;34m()\u001b[0m\n",
      "\u001b[1;32m~\\anaconda3\\lib\\site-packages\\pandas\\_libs\\index.pyx\u001b[0m in \u001b[0;36mpandas._libs.index.IndexEngine.get_loc\u001b[1;34m()\u001b[0m\n",
      "\u001b[1;32mpandas\\_libs\\hashtable_class_helper.pxi\u001b[0m in \u001b[0;36mpandas._libs.hashtable.PyObjectHashTable.get_item\u001b[1;34m()\u001b[0m\n",
      "\u001b[1;32mpandas\\_libs\\hashtable_class_helper.pxi\u001b[0m in \u001b[0;36mpandas._libs.hashtable.PyObjectHashTable.get_item\u001b[1;34m()\u001b[0m\n",
      "\u001b[1;31mKeyError\u001b[0m: 'Country Code'",
      "\nThe above exception was the direct cause of the following exception:\n",
      "\u001b[1;31mKeyError\u001b[0m                                  Traceback (most recent call last)",
      "\u001b[1;32m~\\AppData\\Local\\Temp/ipykernel_17936/497352011.py\u001b[0m in \u001b[0;36m<module>\u001b[1;34m\u001b[0m\n\u001b[0;32m      1\u001b[0m \u001b[0mmusic_df\u001b[0m\u001b[1;33m[\u001b[0m\u001b[1;34m\"ISRC\"\u001b[0m\u001b[1;33m]\u001b[0m\u001b[1;33m.\u001b[0m\u001b[0mfillna\u001b[0m\u001b[1;33m(\u001b[0m\u001b[1;34m\" \"\u001b[0m\u001b[1;33m,\u001b[0m \u001b[0minplace\u001b[0m \u001b[1;33m=\u001b[0m \u001b[1;32mTrue\u001b[0m\u001b[1;33m)\u001b[0m\u001b[1;33m\u001b[0m\u001b[1;33m\u001b[0m\u001b[0m\n\u001b[1;32m----> 2\u001b[1;33m \u001b[0mmusic_df\u001b[0m\u001b[1;33m[\u001b[0m\u001b[1;34m\"Country Code\"\u001b[0m\u001b[1;33m]\u001b[0m\u001b[1;33m.\u001b[0m\u001b[0mfillna\u001b[0m\u001b[1;33m(\u001b[0m\u001b[1;34m\" \"\u001b[0m\u001b[1;33m,\u001b[0m \u001b[0minplace\u001b[0m \u001b[1;33m=\u001b[0m \u001b[1;32mTrue\u001b[0m\u001b[1;33m)\u001b[0m\u001b[1;33m\u001b[0m\u001b[1;33m\u001b[0m\u001b[0m\n\u001b[0m\u001b[0;32m      3\u001b[0m \u001b[0mmusic_df\u001b[0m\u001b[1;33m[\u001b[0m\u001b[1;34m\"Registrant Code\"\u001b[0m\u001b[1;33m]\u001b[0m\u001b[1;33m.\u001b[0m\u001b[0mfillna\u001b[0m\u001b[1;33m(\u001b[0m\u001b[1;34m\" \"\u001b[0m\u001b[1;33m,\u001b[0m \u001b[0minplace\u001b[0m \u001b[1;33m=\u001b[0m \u001b[1;32mTrue\u001b[0m\u001b[1;33m)\u001b[0m\u001b[1;33m\u001b[0m\u001b[1;33m\u001b[0m\u001b[0m\n\u001b[0;32m      4\u001b[0m \u001b[0mmusic_df\u001b[0m\u001b[1;33m[\u001b[0m\u001b[1;34m\"Year of Reference\"\u001b[0m\u001b[1;33m]\u001b[0m\u001b[1;33m.\u001b[0m\u001b[0mfillna\u001b[0m\u001b[1;33m(\u001b[0m\u001b[1;34m\" \"\u001b[0m\u001b[1;33m,\u001b[0m \u001b[0minplace\u001b[0m \u001b[1;33m=\u001b[0m \u001b[1;32mTrue\u001b[0m\u001b[1;33m)\u001b[0m\u001b[1;33m\u001b[0m\u001b[1;33m\u001b[0m\u001b[0m\n\u001b[0;32m      5\u001b[0m \u001b[0mmusic_df\u001b[0m\u001b[1;33m[\u001b[0m\u001b[1;34m\"Usage Period\"\u001b[0m\u001b[1;33m]\u001b[0m\u001b[1;33m.\u001b[0m\u001b[0mfillna\u001b[0m\u001b[1;33m(\u001b[0m\u001b[1;34m\" \"\u001b[0m\u001b[1;33m,\u001b[0m \u001b[0minplace\u001b[0m \u001b[1;33m=\u001b[0m \u001b[1;32mTrue\u001b[0m\u001b[1;33m)\u001b[0m\u001b[1;33m\u001b[0m\u001b[1;33m\u001b[0m\u001b[0m\n",
      "\u001b[1;32m~\\anaconda3\\lib\\site-packages\\pandas\\core\\frame.py\u001b[0m in \u001b[0;36m__getitem__\u001b[1;34m(self, key)\u001b[0m\n\u001b[0;32m   3456\u001b[0m             \u001b[1;32mif\u001b[0m \u001b[0mself\u001b[0m\u001b[1;33m.\u001b[0m\u001b[0mcolumns\u001b[0m\u001b[1;33m.\u001b[0m\u001b[0mnlevels\u001b[0m \u001b[1;33m>\u001b[0m \u001b[1;36m1\u001b[0m\u001b[1;33m:\u001b[0m\u001b[1;33m\u001b[0m\u001b[1;33m\u001b[0m\u001b[0m\n\u001b[0;32m   3457\u001b[0m                 \u001b[1;32mreturn\u001b[0m \u001b[0mself\u001b[0m\u001b[1;33m.\u001b[0m\u001b[0m_getitem_multilevel\u001b[0m\u001b[1;33m(\u001b[0m\u001b[0mkey\u001b[0m\u001b[1;33m)\u001b[0m\u001b[1;33m\u001b[0m\u001b[1;33m\u001b[0m\u001b[0m\n\u001b[1;32m-> 3458\u001b[1;33m             \u001b[0mindexer\u001b[0m \u001b[1;33m=\u001b[0m \u001b[0mself\u001b[0m\u001b[1;33m.\u001b[0m\u001b[0mcolumns\u001b[0m\u001b[1;33m.\u001b[0m\u001b[0mget_loc\u001b[0m\u001b[1;33m(\u001b[0m\u001b[0mkey\u001b[0m\u001b[1;33m)\u001b[0m\u001b[1;33m\u001b[0m\u001b[1;33m\u001b[0m\u001b[0m\n\u001b[0m\u001b[0;32m   3459\u001b[0m             \u001b[1;32mif\u001b[0m \u001b[0mis_integer\u001b[0m\u001b[1;33m(\u001b[0m\u001b[0mindexer\u001b[0m\u001b[1;33m)\u001b[0m\u001b[1;33m:\u001b[0m\u001b[1;33m\u001b[0m\u001b[1;33m\u001b[0m\u001b[0m\n\u001b[0;32m   3460\u001b[0m                 \u001b[0mindexer\u001b[0m \u001b[1;33m=\u001b[0m \u001b[1;33m[\u001b[0m\u001b[0mindexer\u001b[0m\u001b[1;33m]\u001b[0m\u001b[1;33m\u001b[0m\u001b[1;33m\u001b[0m\u001b[0m\n",
      "\u001b[1;32m~\\anaconda3\\lib\\site-packages\\pandas\\core\\indexes\\base.py\u001b[0m in \u001b[0;36mget_loc\u001b[1;34m(self, key, method, tolerance)\u001b[0m\n\u001b[0;32m   3361\u001b[0m                 \u001b[1;32mreturn\u001b[0m \u001b[0mself\u001b[0m\u001b[1;33m.\u001b[0m\u001b[0m_engine\u001b[0m\u001b[1;33m.\u001b[0m\u001b[0mget_loc\u001b[0m\u001b[1;33m(\u001b[0m\u001b[0mcasted_key\u001b[0m\u001b[1;33m)\u001b[0m\u001b[1;33m\u001b[0m\u001b[1;33m\u001b[0m\u001b[0m\n\u001b[0;32m   3362\u001b[0m             \u001b[1;32mexcept\u001b[0m \u001b[0mKeyError\u001b[0m \u001b[1;32mas\u001b[0m \u001b[0merr\u001b[0m\u001b[1;33m:\u001b[0m\u001b[1;33m\u001b[0m\u001b[1;33m\u001b[0m\u001b[0m\n\u001b[1;32m-> 3363\u001b[1;33m                 \u001b[1;32mraise\u001b[0m \u001b[0mKeyError\u001b[0m\u001b[1;33m(\u001b[0m\u001b[0mkey\u001b[0m\u001b[1;33m)\u001b[0m \u001b[1;32mfrom\u001b[0m \u001b[0merr\u001b[0m\u001b[1;33m\u001b[0m\u001b[1;33m\u001b[0m\u001b[0m\n\u001b[0m\u001b[0;32m   3364\u001b[0m \u001b[1;33m\u001b[0m\u001b[0m\n\u001b[0;32m   3365\u001b[0m         \u001b[1;32mif\u001b[0m \u001b[0mis_scalar\u001b[0m\u001b[1;33m(\u001b[0m\u001b[0mkey\u001b[0m\u001b[1;33m)\u001b[0m \u001b[1;32mand\u001b[0m \u001b[0misna\u001b[0m\u001b[1;33m(\u001b[0m\u001b[0mkey\u001b[0m\u001b[1;33m)\u001b[0m \u001b[1;32mand\u001b[0m \u001b[1;32mnot\u001b[0m \u001b[0mself\u001b[0m\u001b[1;33m.\u001b[0m\u001b[0mhasnans\u001b[0m\u001b[1;33m:\u001b[0m\u001b[1;33m\u001b[0m\u001b[1;33m\u001b[0m\u001b[0m\n",
      "\u001b[1;31mKeyError\u001b[0m: 'Country Code'"
     ]
    }
   ],
   "source": [
    "music_df[\"ISRC\"].fillna(\" \", inplace = True)\n",
    "music_df[\"Country Code\"].fillna(\" \", inplace = True)\n",
    "music_df[\"Registrant Code\"].fillna(\" \", inplace = True)\n",
    "music_df[\"Year of Reference\"].fillna(\" \", inplace = True)\n",
    "music_df[\"Usage Period\"].fillna(\" \", inplace = True)\n",
    "music_df[\"Streaming Platform (DSP)\"].fillna(\" \", inplace = True)\n",
    "music_df[\"Streams\"].fillna(\" \", inplace = True)\n",
    "music_df[\"Recording Artist\"].fillna(\" \", inplace = True)\n",
    "music_df[\"Recording Label\"].fillna(\" \", inplace = True)\n",
    "music_df[\"Recording Title\"].fillna(\" \", inplace = True)\n",
    "music_df[\"Release Title\"].fillna(\" \", inplace = True)\n",
    "music_df[\"Recording Duration (Seconds)\"].fillna(\" \", inplace = True)"
   ]
  },
  {
   "cell_type": "code",
   "execution_count": 12,
   "id": "6aa262fb",
   "metadata": {},
   "outputs": [
    {
     "data": {
      "text/plain": [
       "ISRC                    0\n",
       "Country              1697\n",
       "Registrant           1697\n",
       "Year                 1761\n",
       "Month_Streamed       8102\n",
       "Platform             3999\n",
       "Streams                 0\n",
       "Artist                  0\n",
       "Label                1008\n",
       "Recording_Title         0\n",
       "Release_Title          69\n",
       "Duration_Sec            0\n",
       "Songwriter_Listed       0\n",
       "dtype: int64"
      ]
     },
     "execution_count": 12,
     "metadata": {},
     "output_type": "execute_result"
    }
   ],
   "source": [
    "music_df.isnull().sum()"
   ]
  },
  {
   "cell_type": "markdown",
   "id": "912752e5",
   "metadata": {},
   "source": [
    "Following code is getting rid of commas in the streams column to make it an integer"
   ]
  },
  {
   "cell_type": "code",
   "execution_count": null,
   "id": "b2395941",
   "metadata": {},
   "outputs": [],
   "source": [
    "music_df['Streams'] = music_df['Streams'].astype(str)\n",
    "music_df['Streams']=music_df['Streams'].str.replace(',','')\n",
    "music_df['Streams'] = music_df['Streams'].astype(int)"
   ]
  },
  {
   "cell_type": "markdown",
   "id": "541facf3",
   "metadata": {},
   "source": [
    "So we're having an extrordinarily difficult time turning the years column into an integer. Why is this an impossible feat? Why does it refuse to turn into a string even though there are no nulls? Why does it refuse to turn into a float when there are no nulls???"
   ]
  },
  {
   "cell_type": "code",
   "execution_count": null,
   "id": "420566c4",
   "metadata": {},
   "outputs": [],
   "source": [
    "indie = music_df[music_df['Artist'] == music_df['Label']]"
   ]
  },
  {
   "cell_type": "code",
   "execution_count": null,
   "id": "94e53581",
   "metadata": {},
   "outputs": [],
   "source": [
    "music_df.describe()"
   ]
  },
  {
   "cell_type": "markdown",
   "id": "1e0b9320",
   "metadata": {},
   "source": [
    "In the following code, we're trying to create a chart that shows the streams by platform. Once we do that, we can also start showing the streams by label."
   ]
  },
  {
   "cell_type": "code",
   "execution_count": null,
   "id": "a67158eb",
   "metadata": {
    "scrolled": false
   },
   "outputs": [],
   "source": [
    "platform_sums = music_df.groupby(['Platform'], as_index=False).agg({'Streams':['sum']})\n",
    "platform_sums.columns = ['Platform','Streams']\n",
    "platform_sums.info()"
   ]
  },
  {
   "cell_type": "code",
   "execution_count": null,
   "id": "1e2df680",
   "metadata": {},
   "outputs": [],
   "source": [
    "platform_sums.head()"
   ]
  },
  {
   "cell_type": "code",
   "execution_count": null,
   "id": "699553f5",
   "metadata": {
    "scrolled": true
   },
   "outputs": [],
   "source": [
    "label_sums = music_df.groupby(['Label'], as_index=False).agg({'Streams':['sum']})\n",
    "label_sums.columns = ['Label','Streams']\n",
    "label_sums.info()"
   ]
  },
  {
   "cell_type": "code",
   "execution_count": null,
   "id": "fd01cec7",
   "metadata": {},
   "outputs": [],
   "source": [
    "print(label_sums.nlargest(n=50,columns=['Streams']))"
   ]
  },
  {
   "cell_type": "markdown",
   "id": "66c9a8ed",
   "metadata": {},
   "source": [
    "Using the code in this markdown isn't working because we're trying to make a grid with a series.\n",
    "\n",
    "grid = sns.FacetGrid(music_df, hue = \"Platform\")\n",
    "grid.map(sns.barplot, music_df['Label'], music_df.groupby('Platform')['Streams'].sum())\n",
    "plt.xlim(reversed(plt.xlim()))\n",
    "grid.add_legend()"
   ]
  },
  {
   "cell_type": "code",
   "execution_count": null,
   "id": "a617f032",
   "metadata": {
    "scrolled": false
   },
   "outputs": [],
   "source": [
    "platform_bar = sns.barplot(platform_sums['Platform'],platform_sums['Streams'])\n",
    "platform_bar.set_xticklabels(platform_bar.get_xticklabels(), rotation=45, horizontalalignment='right')\n",
    "#wow ok so this gives us a chart i suppose but not QUITE what we're looking for."
   ]
  },
  {
   "cell_type": "code",
   "execution_count": null,
   "id": "e4d46287",
   "metadata": {
    "scrolled": false
   },
   "outputs": [],
   "source": [
    "print(platform_sums)"
   ]
  },
  {
   "cell_type": "markdown",
   "id": "a0230f77",
   "metadata": {},
   "source": [
    "dataframe1 = pd.DataFrame(data={\"column1\": [1, 2, 3, 4, 5]})\n",
    "dataframe2 = pd.DataFrame(data={\"column1\": [1, 2]})\n",
    "\n",
    "common = dataframe1.merge(dataframe2, on=[\"column1\"])\n",
    "result = dataframe1[~dataframe1.column1.isin(common.column1)]"
   ]
  },
  {
   "cell_type": "code",
   "execution_count": null,
   "id": "a6f59560",
   "metadata": {},
   "outputs": [],
   "source": [
    "# Extract the various columns from ISRC\n",
    "ISRCdecode = music_df['ISRC']\n",
    "# Extract the ISRC code by artist\n",
    "ISRCdecodeartist = [entry[7:] for entry in ISRCdecode]\n",
    "print(ISRCdecodeartist)"
   ]
  },
  {
   "cell_type": "code",
   "execution_count": null,
   "id": "8d1fcd8e",
   "metadata": {},
   "outputs": [],
   "source": [
    "artzip = (list(music_df['Artist']),ISRCdecodeartist)"
   ]
  },
  {
   "cell_type": "markdown",
   "id": "79c90f32",
   "metadata": {},
   "source": [
    "This is not doing what i want right now, but we'll get there!"
   ]
  },
  {
   "cell_type": "code",
   "execution_count": null,
   "id": "52d6f2c5",
   "metadata": {},
   "outputs": [],
   "source": [
    "print(artzip)"
   ]
  },
  {
   "cell_type": "code",
   "execution_count": null,
   "id": "25086d2c",
   "metadata": {},
   "outputs": [],
   "source": []
  }
 ],
 "metadata": {
  "kernelspec": {
   "display_name": "Python 3 (ipykernel)",
   "language": "python",
   "name": "python3"
  },
  "language_info": {
   "codemirror_mode": {
    "name": "ipython",
    "version": 3
   },
   "file_extension": ".py",
   "mimetype": "text/x-python",
   "name": "python",
   "nbconvert_exporter": "python",
   "pygments_lexer": "ipython3",
   "version": "3.9.7"
  }
 },
 "nbformat": 4,
 "nbformat_minor": 5
}
